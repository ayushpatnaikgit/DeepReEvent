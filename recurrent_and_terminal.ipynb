{
 "cells": [
  {
   "cell_type": "code",
   "execution_count": 14,
   "metadata": {
    "metadata": {}
   },
   "outputs": [],
   "source": [
    "from src.data import _load_readmission_dataset, _load_simData\n",
    "from src.helper_functions import _prepare_rt_tensors, _prepare_dataloaders\n",
    "from src.models import *\n",
    "from src.losses import *    \n",
    "from src.training import *\n",
    "from src.metrics import *"
   ]
  },
  {
   "cell_type": "code",
   "execution_count": 15,
   "metadata": {
    "metadata": {}
   },
   "outputs": [],
   "source": [
    "# set device\n",
    "device = torch.device(\"cuda\" if torch.cuda.is_available() else \"cpu\")"
   ]
  },
  {
   "cell_type": "code",
   "execution_count": 16,
   "metadata": {
    "metadata": {}
   },
   "outputs": [
    {
     "name": "stderr",
     "output_type": "stream",
     "text": [
      "/home/ayush/DeepReEvent/src/data.py:47: FutureWarning: The provided callable <built-in function max> is currently using SeriesGroupBy.max. In a future version of pandas, the provided callable will be used directly. To keep current behavior pass the string \"max\" instead.\n",
      "  data['max_time'] = data.groupby('id')['t.stop'].transform(max)\n"
     ]
    }
   ],
   "source": [
    "x, t, e, d = _load_readmission_dataset(sequential=True)"
   ]
  },
  {
   "cell_type": "code",
   "execution_count": 17,
   "metadata": {
    "metadata": {}
   },
   "outputs": [],
   "source": [
    "readmission_tensor = _prepare_rt_tensors(x, t, e, d)\n",
    "locals().update(readmission_tensor) # create variables from dictionary"
   ]
  },
  {
   "cell_type": "code",
   "execution_count": 18,
   "metadata": {
    "metadata": {}
   },
   "outputs": [],
   "source": [
    "train_dataloader, val_dataloader, test_dataloader = _prepare_dataloaders(readmission_tensor, batch_size=32)"
   ]
  },
  {
   "cell_type": "code",
   "execution_count": 19,
   "metadata": {
    "metadata": {}
   },
   "outputs": [],
   "source": [
    "# model and training parameters\n",
    "\n",
    "input_size = len(x[0]) \n",
    "output_size = int(max(t))\n",
    "hidden_size = 8   # Number of units in the RNN layer\n",
    "\n",
    "model = SimpleLSTM(input_size, hidden_size, output_size, 2, 0.1)\n",
    "\n",
    "# Instantiate the model\n",
    "\n",
    "num_epochs = 10000\n",
    "patience = 3  # Number of epochs to wait for improvement before stopping\n",
    "best_val_loss = float('inf')\n",
    "wait = 0\n",
    "loss_function = recurrent_terminal_loss\n",
    "\n",
    "model = model.to(device)\n",
    "optimizer = torch.optim.Adam(model.parameters(),  lr=1e-4, weight_decay=1e-7)"
   ]
  },
  {
   "cell_type": "code",
   "execution_count": 20,
   "metadata": {
    "metadata": {}
   },
   "outputs": [
    {
     "name": "stdout",
     "output_type": "stream",
     "text": [
      "Epoch: 0   Training loss: 4.9938   Validation loss: 4.8714\n"
     ]
    },
    {
     "name": "stdout",
     "output_type": "stream",
     "text": [
      "Epoch: 10   Training loss: 4.9355   Validation loss: 4.8159\n",
      "Epoch: 20   Training loss: 4.8856   Validation loss: 4.7648\n",
      "Epoch: 30   Training loss: 4.8238   Validation loss: 4.7148\n",
      "Epoch: 40   Training loss: 4.7744   Validation loss: 4.6646\n",
      "Epoch: 50   Training loss: 4.7145   Validation loss: 4.6111\n",
      "Epoch: 60   Training loss: 4.6543   Validation loss: 4.5528\n",
      "Epoch: 70   Training loss: 4.5865   Validation loss: 4.4871\n",
      "Epoch: 80   Training loss: 4.4944   Validation loss: 4.4135\n",
      "Epoch: 90   Training loss: 4.4205   Validation loss: 4.3323\n",
      "Epoch: 100   Training loss: 4.3231   Validation loss: 4.2469\n",
      "Epoch: 110   Training loss: 4.2409   Validation loss: 4.1606\n",
      "Epoch: 120   Training loss: 4.1673   Validation loss: 4.0761\n",
      "Epoch: 130   Training loss: 4.0778   Validation loss: 3.9956\n",
      "Epoch: 140   Training loss: 3.9861   Validation loss: 3.9211\n",
      "Epoch: 150   Training loss: 3.9096   Validation loss: 3.8530\n",
      "Epoch: 160   Training loss: 3.8543   Validation loss: 3.7893\n",
      "Epoch: 170   Training loss: 3.8589   Validation loss: 3.7326\n",
      "Epoch: 180   Training loss: 3.7808   Validation loss: 3.6813\n",
      "Epoch: 190   Training loss: 3.7194   Validation loss: 3.6331\n",
      "Epoch: 200   Training loss: 3.7431   Validation loss: 3.5905\n",
      "Epoch: 210   Training loss: 3.6916   Validation loss: 3.5521\n",
      "Epoch: 220   Training loss: 3.6528   Validation loss: 3.5171\n",
      "Epoch: 230   Training loss: 3.6485   Validation loss: 3.4867\n",
      "Epoch: 240   Training loss: 3.6512   Validation loss: 3.4567\n",
      "Epoch: 250   Training loss: 3.5659   Validation loss: 3.4316\n",
      "Epoch: 260   Training loss: 3.6071   Validation loss: 3.4074\n",
      "Epoch: 270   Training loss: 3.5407   Validation loss: 3.3856\n",
      "Epoch: 280   Training loss: 3.5401   Validation loss: 3.3659\n",
      "Epoch: 290   Training loss: 3.5407   Validation loss: 3.3467\n",
      "Epoch: 300   Training loss: 3.4684   Validation loss: 3.3286\n",
      "Epoch: 310   Training loss: 3.4970   Validation loss: 3.3116\n",
      "Epoch: 320   Training loss: 3.4872   Validation loss: 3.2957\n",
      "Epoch: 330   Training loss: 3.4629   Validation loss: 3.2805\n",
      "Epoch: 340   Training loss: 3.4545   Validation loss: 3.2670\n",
      "Epoch: 350   Training loss: 3.4594   Validation loss: 3.2518\n",
      "Epoch: 360   Training loss: 3.4344   Validation loss: 3.2393\n",
      "Epoch: 370   Training loss: 3.4450   Validation loss: 3.2279\n",
      "Epoch: 380   Training loss: 3.4755   Validation loss: 3.2153\n",
      "Epoch: 390   Training loss: 3.4176   Validation loss: 3.2021\n",
      "Epoch: 400   Training loss: 3.4196   Validation loss: 3.1909\n",
      "Epoch: 410   Training loss: 3.4057   Validation loss: 3.1794\n",
      "Epoch: 420   Training loss: 3.4175   Validation loss: 3.1694\n",
      "Epoch: 430   Training loss: 3.4003   Validation loss: 3.1590\n",
      "Epoch: 440   Training loss: 3.3867   Validation loss: 3.1481\n",
      "Epoch: 450   Training loss: 3.4310   Validation loss: 3.1376\n",
      "Epoch: 460   Training loss: 3.3220   Validation loss: 3.1280\n",
      "Epoch: 470   Training loss: 3.3554   Validation loss: 3.1195\n",
      "Epoch: 480   Training loss: 3.3100   Validation loss: 3.1112\n",
      "Epoch: 490   Training loss: 3.3321   Validation loss: 3.1025\n",
      "Epoch: 500   Training loss: 3.3408   Validation loss: 3.0949\n",
      "Epoch: 510   Training loss: 3.3373   Validation loss: 3.0864\n",
      "Epoch: 520   Training loss: 3.2950   Validation loss: 3.0783\n",
      "Epoch: 530   Training loss: 3.2969   Validation loss: 3.0718\n",
      "Epoch: 540   Training loss: 3.3010   Validation loss: 3.0656\n",
      "Epoch: 550   Training loss: 3.2835   Validation loss: 3.0580\n",
      "Epoch: 560   Training loss: 3.2961   Validation loss: 3.0509\n",
      "Epoch: 570   Training loss: 3.2743   Validation loss: 3.0450\n",
      "Epoch: 580   Training loss: 3.3005   Validation loss: 3.0373\n",
      "Epoch: 590   Training loss: 3.3138   Validation loss: 3.0292\n",
      "Epoch: 600   Training loss: 3.2780   Validation loss: 3.0218\n",
      "Epoch: 610   Training loss: 3.2844   Validation loss: 3.0149\n",
      "Epoch: 620   Training loss: 3.2405   Validation loss: 3.0076\n",
      "Epoch: 630   Training loss: 3.2840   Validation loss: 3.0013\n",
      "Epoch: 640   Training loss: 3.3071   Validation loss: 2.9948\n",
      "Epoch: 650   Training loss: 3.2525   Validation loss: 2.9885\n",
      "Epoch: 660   Training loss: 3.2957   Validation loss: 2.9818\n",
      "Epoch: 670   Training loss: 3.2717   Validation loss: 2.9767\n",
      "Epoch: 680   Training loss: 3.1936   Validation loss: 2.9708\n",
      "Epoch: 690   Training loss: 3.2543   Validation loss: 2.9647\n",
      "Epoch: 700   Training loss: 3.2938   Validation loss: 2.9577\n",
      "Epoch: 710   Training loss: 3.2405   Validation loss: 2.9526\n",
      "Epoch: 720   Training loss: 3.2276   Validation loss: 2.9477\n",
      "Epoch: 730   Training loss: 3.2125   Validation loss: 2.9422\n",
      "Epoch: 740   Training loss: 3.2375   Validation loss: 2.9374\n",
      "Epoch: 750   Training loss: 3.2802   Validation loss: 2.9327\n",
      "Epoch: 760   Training loss: 3.1582   Validation loss: 2.9272\n",
      "Epoch: 770   Training loss: 3.2418   Validation loss: 2.9213\n",
      "Epoch: 780   Training loss: 3.1681   Validation loss: 2.9158\n",
      "Epoch: 790   Training loss: 3.2451   Validation loss: 2.9112\n",
      "Epoch: 800   Training loss: 3.1472   Validation loss: 2.9072\n",
      "Epoch: 810   Training loss: 3.2225   Validation loss: 2.9029\n",
      "Epoch: 820   Training loss: 3.2105   Validation loss: 2.8985\n",
      "Epoch: 830   Training loss: 3.1906   Validation loss: 2.8932\n",
      "Epoch: 840   Training loss: 3.1588   Validation loss: 2.8901\n",
      "Epoch: 850   Training loss: 3.2025   Validation loss: 2.8877\n",
      "Epoch: 860   Training loss: 3.1931   Validation loss: 2.8831\n",
      "Epoch: 870   Training loss: 3.1928   Validation loss: 2.8780\n",
      "Epoch: 880   Training loss: 3.2240   Validation loss: 2.8747\n",
      "Epoch: 890   Training loss: 3.2327   Validation loss: 2.8721\n",
      "Epoch: 900   Training loss: 3.1459   Validation loss: 2.8696\n",
      "Epoch: 910   Training loss: 3.2257   Validation loss: 2.8656\n",
      "Epoch: 920   Training loss: 3.1548   Validation loss: 2.8608\n",
      "Epoch: 930   Training loss: 3.1838   Validation loss: 2.8572\n",
      "Epoch: 940   Training loss: 3.1960   Validation loss: 2.8553\n",
      "Epoch: 950   Training loss: 3.1113   Validation loss: 2.8525\n",
      "Epoch: 960   Training loss: 3.1690   Validation loss: 2.8494\n",
      "Epoch: 970   Training loss: 3.1657   Validation loss: 2.8480\n",
      "Early stopping\n"
     ]
    }
   ],
   "source": [
    "train_validate_rt_model(model, train_dataloader, val_dataloader, loss_function, optimizer, num_epochs, patience, print_every=10)"
   ]
  },
  {
   "cell_type": "code",
   "execution_count": 21,
   "metadata": {
    "metadata": {}
   },
   "outputs": [],
   "source": [
    "test_predictions = model(x_test).squeeze(-1)\n",
    "\n",
    "survival_predictions = test_predictions[:, :, 0:1].squeeze(-1)\n",
    "recurrent_predictions = test_predictions[:, :, 1:2].squeeze(-1)"
   ]
  },
  {
   "cell_type": "code",
   "execution_count": 22,
   "metadata": {
    "metadata": {}
   },
   "outputs": [
    {
     "name": "stdout",
     "output_type": "stream",
     "text": [
      "[0.9539473684210527, 0.9618800498922262, 0.9618800498922262]\n"
     ]
    },
    {
     "data": {
      "text/plain": [
       "{'Time 2': 0.9539473684210527,\n",
       " 'Time 3': 0.9618800498922262,\n",
       " 'Time 4': 0.9618800498922262}"
      ]
     },
     "execution_count": 22,
     "metadata": {},
     "output_type": "execute_result"
    }
   ],
   "source": [
    "calculate_survival_metrics(survival_predictions, d_train, t_train, d_test, t_test, d_val, t_val)"
   ]
  },
  {
   "cell_type": "code",
   "execution_count": 23,
   "metadata": {},
   "outputs": [
    {
     "name": "stdout",
     "output_type": "stream",
     "text": [
      "1\n"
     ]
    }
   ],
   "source": [
    "recurrent_cindex(recurrent_predictions, e_test, t_test, 6)"
   ]
  },
  {
   "cell_type": "code",
   "execution_count": 11,
   "metadata": {},
   "outputs": [
    {
     "name": "stdout",
     "output_type": "stream",
     "text": [
      "sample:  0\n",
      "Epoch: 0   Training loss: 5.2466   Validation loss: 5.1963\n"
     ]
    },
    {
     "name": "stdout",
     "output_type": "stream",
     "text": [
      "Early stopping\n",
      "sample:  1\n",
      "Epoch: 0   Training loss: 5.4680   Validation loss: 5.2982\n",
      "Early stopping\n",
      "sample:  2\n",
      "Epoch: 0   Training loss: 5.5915   Validation loss: 5.4352\n"
     ]
    },
    {
     "ename": "KeyboardInterrupt",
     "evalue": "",
     "output_type": "error",
     "traceback": [
      "\u001b[0;31m---------------------------------------------------------------------------\u001b[0m",
      "\u001b[0;31mKeyboardInterrupt\u001b[0m                         Traceback (most recent call last)",
      "Cell \u001b[0;32mIn[11], line 27\u001b[0m\n\u001b[1;32m     25\u001b[0m model \u001b[38;5;241m=\u001b[39m model\u001b[38;5;241m.\u001b[39mto(device)\n\u001b[1;32m     26\u001b[0m optimizer \u001b[38;5;241m=\u001b[39m torch\u001b[38;5;241m.\u001b[39moptim\u001b[38;5;241m.\u001b[39mAdam(model\u001b[38;5;241m.\u001b[39mparameters(),  lr\u001b[38;5;241m=\u001b[39m\u001b[38;5;241m1e-4\u001b[39m, weight_decay\u001b[38;5;241m=\u001b[39m\u001b[38;5;241m1e-7\u001b[39m)\n\u001b[0;32m---> 27\u001b[0m train_validate_rt_model(model, train_dataloader, val_dataloader, loss_function, optimizer, num_epochs, patience, print_every\u001b[38;5;241m=\u001b[39m\u001b[38;5;241m1000\u001b[39m)\n\u001b[1;32m     28\u001b[0m test_predictions \u001b[38;5;241m=\u001b[39m model(x_test)\u001b[38;5;241m.\u001b[39msqueeze(\u001b[38;5;241m-\u001b[39m\u001b[38;5;241m1\u001b[39m)\n\u001b[1;32m     30\u001b[0m survival_predictions \u001b[38;5;241m=\u001b[39m test_predictions[:, :, \u001b[38;5;241m0\u001b[39m:\u001b[38;5;241m1\u001b[39m]\u001b[38;5;241m.\u001b[39msqueeze(\u001b[38;5;241m-\u001b[39m\u001b[38;5;241m1\u001b[39m)\n",
      "File \u001b[0;32m~/DeepReEvent/src/training.py:39\u001b[0m, in \u001b[0;36mtrain_validate_rt_model\u001b[0;34m(model, train_dataloader, val_dataloader, loss_function, optimizer, num_epochs, patience, print_every)\u001b[0m\n\u001b[1;32m     37\u001b[0m pred_y \u001b[38;5;241m=\u001b[39m model(batch_x)\u001b[38;5;241m.\u001b[39msqueeze(\u001b[38;5;241m-\u001b[39m\u001b[38;5;241m1\u001b[39m)\n\u001b[1;32m     38\u001b[0m loss \u001b[38;5;241m=\u001b[39m loss_function(pred_y, batch_t\u001b[38;5;241m.\u001b[39mlong(), batch_e\u001b[38;5;241m.\u001b[39mlong(), batch_d\u001b[38;5;241m.\u001b[39mlong())\n\u001b[0;32m---> 39\u001b[0m loss\u001b[38;5;241m.\u001b[39mbackward()\n\u001b[1;32m     40\u001b[0m optimizer\u001b[38;5;241m.\u001b[39mstep()\n\u001b[1;32m     41\u001b[0m train_loss \u001b[38;5;241m+\u001b[39m\u001b[38;5;241m=\u001b[39m loss\u001b[38;5;241m.\u001b[39mitem()\n",
      "File \u001b[0;32m~/miniconda3/lib/python3.11/site-packages/torch/_tensor.py:492\u001b[0m, in \u001b[0;36mTensor.backward\u001b[0;34m(self, gradient, retain_graph, create_graph, inputs)\u001b[0m\n\u001b[1;32m    482\u001b[0m \u001b[38;5;28;01mif\u001b[39;00m has_torch_function_unary(\u001b[38;5;28mself\u001b[39m):\n\u001b[1;32m    483\u001b[0m     \u001b[38;5;28;01mreturn\u001b[39;00m handle_torch_function(\n\u001b[1;32m    484\u001b[0m         Tensor\u001b[38;5;241m.\u001b[39mbackward,\n\u001b[1;32m    485\u001b[0m         (\u001b[38;5;28mself\u001b[39m,),\n\u001b[0;32m   (...)\u001b[0m\n\u001b[1;32m    490\u001b[0m         inputs\u001b[38;5;241m=\u001b[39minputs,\n\u001b[1;32m    491\u001b[0m     )\n\u001b[0;32m--> 492\u001b[0m torch\u001b[38;5;241m.\u001b[39mautograd\u001b[38;5;241m.\u001b[39mbackward(\n\u001b[1;32m    493\u001b[0m     \u001b[38;5;28mself\u001b[39m, gradient, retain_graph, create_graph, inputs\u001b[38;5;241m=\u001b[39minputs\n\u001b[1;32m    494\u001b[0m )\n",
      "File \u001b[0;32m~/miniconda3/lib/python3.11/site-packages/torch/autograd/__init__.py:251\u001b[0m, in \u001b[0;36mbackward\u001b[0;34m(tensors, grad_tensors, retain_graph, create_graph, grad_variables, inputs)\u001b[0m\n\u001b[1;32m    246\u001b[0m     retain_graph \u001b[38;5;241m=\u001b[39m create_graph\n\u001b[1;32m    248\u001b[0m \u001b[38;5;66;03m# The reason we repeat the same comment below is that\u001b[39;00m\n\u001b[1;32m    249\u001b[0m \u001b[38;5;66;03m# some Python versions print out the first line of a multi-line function\u001b[39;00m\n\u001b[1;32m    250\u001b[0m \u001b[38;5;66;03m# calls in the traceback and some print out the last line\u001b[39;00m\n\u001b[0;32m--> 251\u001b[0m Variable\u001b[38;5;241m.\u001b[39m_execution_engine\u001b[38;5;241m.\u001b[39mrun_backward(  \u001b[38;5;66;03m# Calls into the C++ engine to run the backward pass\u001b[39;00m\n\u001b[1;32m    252\u001b[0m     tensors,\n\u001b[1;32m    253\u001b[0m     grad_tensors_,\n\u001b[1;32m    254\u001b[0m     retain_graph,\n\u001b[1;32m    255\u001b[0m     create_graph,\n\u001b[1;32m    256\u001b[0m     inputs,\n\u001b[1;32m    257\u001b[0m     allow_unreachable\u001b[38;5;241m=\u001b[39m\u001b[38;5;28;01mTrue\u001b[39;00m,\n\u001b[1;32m    258\u001b[0m     accumulate_grad\u001b[38;5;241m=\u001b[39m\u001b[38;5;28;01mTrue\u001b[39;00m,\n\u001b[1;32m    259\u001b[0m )\n",
      "\u001b[0;31mKeyboardInterrupt\u001b[0m: "
     ]
    }
   ],
   "source": [
    "nsamples = 10\n",
    "survival_cis = []\n",
    "recurrent_cis = []\n",
    "for sample in range(0, nsamples): \n",
    "    print(\"sample: \",sample)\n",
    "    readmission_tensor = _prepare_rt_tensors(x, t, e, d)\n",
    "    locals().update(readmission_tensor) # create variables from dictionary\n",
    "\n",
    "    train_dataloader, val_dataloader, test_dataloader = _prepare_dataloaders(readmission_tensor, batch_size=32)\n",
    "\n",
    "    input_size = len(x[0]) \n",
    "    output_size = int(max(t))\n",
    "    hidden_size = 8   # Number of units in the RNN layer\n",
    "\n",
    "    model = SimpleLSTM(input_size, hidden_size, output_size, 2, 0.1)\n",
    "\n",
    "    # Instantiate the model\n",
    "\n",
    "    num_epochs = 10000\n",
    "    patience = 3  # Number of epochs to wait for improvement before stopping\n",
    "    best_val_loss = float('inf')\n",
    "    wait = 0\n",
    "    loss_function = recurrent_terminal_loss\n",
    "\n",
    "    model = model.to(device)\n",
    "    optimizer = torch.optim.Adam(model.parameters(),  lr=1e-4, weight_decay=1e-7)\n",
    "    train_validate_rt_model(model, train_dataloader, val_dataloader, loss_function, optimizer, num_epochs, patience, print_every=1000)\n",
    "    test_predictions = model(x_test).squeeze(-1)\n",
    "\n",
    "    survival_predictions = test_predictions[:, :, 0:1].squeeze(-1)\n",
    "    recurrent_predictions = test_predictions[:, :, 1:2].squeeze(-1)\n",
    "    survival_cis.append(calculate_survival_metrics(survival_predictions, d_train, t_train, d_test, t_test, d_val, t_val))\n",
    "    recurrent_cis.append(recurrent_cindex(recurrent_predictions, e_test, t_test, 12))"
   ]
  },
  {
   "cell_type": "code",
   "execution_count": null,
   "metadata": {},
   "outputs": [
    {
     "name": "stdout",
     "output_type": "stream",
     "text": [
      "Standard deviation for the c-index of 25th quantile: 0.01306281436420088\n",
      "Standard deviation for the c-index of 50th quantile: 0.01483553475574478\n",
      "Standard deviation for the c-index of 75th quantile: 0.022048538422807778\n"
     ]
    }
   ],
   "source": [
    "survival_cis_25th = [survival_ci['25th Quantile CI'] for  survival_ci in survival_cis]\n",
    "print(\"Standard deviation for the c-index of 25th quantile:\", np.std(np.array(survival_cis_25th)))\n",
    "\n",
    "survival_cis_50th = [survival_ci['50th Quantile CI'] for survival_ci in survival_cis]\n",
    "print(\"Standard deviation for the c-index of 50th quantile:\", np.std(np.array(survival_cis_50th)))\n",
    "\n",
    "survival_cis_75th = [survival_ci['75th Quantile CI'] for survival_ci in survival_cis]\n",
    "print(\"Standard deviation for the c-index of 75th quantile:\", np.std(np.array(survival_cis_75th)))"
   ]
  },
  {
   "cell_type": "code",
   "execution_count": null,
   "metadata": {},
   "outputs": [
    {
     "name": "stdout",
     "output_type": "stream",
     "text": [
      "Standard deviation for the c-index of 25th quantile: 0.009576180015140427\n",
      "Standard deviation for the c-index of 50th quantile: 0.009046369381791142\n",
      "Standard deviation for the c-index of 75th quantile: 0.009046369381791142\n"
     ]
    }
   ],
   "source": [
    "recurrent_cis_25th = [recurrent_ci['25th Quantile CI'] for recurrent_ci in recurrent_cis]\n",
    "print(\"Standard deviation for the c-index of 25th quantile:\", np.std(np.array(recurrent_cis_25th)))\n",
    "recurrent_cis_50th = [recurrent_ci['50th Quantile CI'] for recurrent_ci in recurrent_cis]\n",
    "print(\"Standard deviation for the c-index of 50th quantile:\", np.std(np.array(recurrent_cis_50th)))\n",
    "recurrent_cis_75th = [recurrent_ci['75th Quantile CI'] for recurrent_ci in recurrent_cis]\n",
    "print(\"Standard deviation for the c-index of 75th quantile:\", np.std(np.array(recurrent_cis_75th)))\n"
   ]
  }
 ],
 "metadata": {
  "kernelspec": {
   "display_name": "Python 3",
   "language": "python",
   "name": "python3"
  },
  "language_info": {
   "codemirror_mode": {
    "name": "ipython",
    "version": 3
   },
   "file_extension": ".py",
   "mimetype": "text/x-python",
   "name": "python",
   "nbconvert_exporter": "python",
   "pygments_lexer": "ipython3",
   "version": "3.11.4"
  }
 },
 "nbformat": 4,
 "nbformat_minor": 2
}
