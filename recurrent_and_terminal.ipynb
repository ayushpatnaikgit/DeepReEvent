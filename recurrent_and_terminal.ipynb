{
 "cells": [
  {
   "cell_type": "code",
   "execution_count": 16,
   "metadata": {},
   "outputs": [],
   "source": [
    "import torch\n",
    "import numpy as np\n",
    "from deepreevent import *"
   ]
  },
  {
   "cell_type": "code",
   "execution_count": 17,
   "metadata": {},
   "outputs": [],
   "source": [
    "set_seed(42)"
   ]
  },
  {
   "cell_type": "code",
   "execution_count": 18,
   "metadata": {
    "metadata": {}
   },
   "outputs": [],
   "source": [
    "# set device\n",
    "device = torch.device(\"cuda\" if torch.cuda.is_available() else \"cpu\")"
   ]
  },
  {
   "cell_type": "code",
   "execution_count": 19,
   "metadata": {
    "metadata": {}
   },
   "outputs": [
    {
     "name": "stderr",
     "output_type": "stream",
     "text": [
      "/home/ayush/DeepReEvent/deepreevent/data.py:47: FutureWarning: The provided callable <built-in function max> is currently using SeriesGroupBy.max. In a future version of pandas, the provided callable will be used directly. To keep current behavior pass the string \"max\" instead.\n",
      "  data['max_time'] = data.groupby('id')['t.stop'].transform(max)\n"
     ]
    }
   ],
   "source": [
    "x, t, e, d = _load_readmission_dataset(sequential=True)"
   ]
  },
  {
   "cell_type": "code",
   "execution_count": 20,
   "metadata": {
    "metadata": {}
   },
   "outputs": [],
   "source": [
    "readmission_tensor = _prepare_rt_tensors(x, t, e, d)\n",
    "locals().update(readmission_tensor) # create variables from dictionary"
   ]
  },
  {
   "cell_type": "code",
   "execution_count": 21,
   "metadata": {
    "metadata": {}
   },
   "outputs": [],
   "source": [
    "train_dataloader, val_dataloader, test_dataloader = _prepare_dataloaders(readmission_tensor, batch_size=32)"
   ]
  },
  {
   "cell_type": "code",
   "execution_count": 22,
   "metadata": {
    "metadata": {}
   },
   "outputs": [],
   "source": [
    "# model and training parameters\n",
    "\n",
    "input_size = len(x[0]) \n",
    "output_size = int(max(t))\n",
    "hidden_size = 6   # Number of units in the RNN layer\n",
    "\n",
    "model = SimpleRNN(input_size, hidden_size, output_size, 2, 0)\n",
    "\n",
    "# Instantiate the model\n",
    "\n",
    "num_epochs = 10000\n",
    "patience = 10  # Number of epochs to wait for improvement before stopping\n",
    "best_val_loss = float('inf')\n",
    "loss_function = recurrent_terminal_loss\n",
    "\n",
    "model = model.to(device)\n",
    "optimizer = torch.optim.Adam(model.parameters(),  lr=1e-4, weight_decay=1e-8)"
   ]
  },
  {
   "cell_type": "code",
   "execution_count": 23,
   "metadata": {
    "metadata": {}
   },
   "outputs": [
    {
     "name": "stdout",
     "output_type": "stream",
     "text": [
      "Epoch: 0   Training loss: 4.7314   Validation loss: 4.6558\n"
     ]
    },
    {
     "name": "stdout",
     "output_type": "stream",
     "text": [
      "Epoch: 10   Training loss: 4.6460   Validation loss: 4.5538\n",
      "Epoch: 20   Training loss: 4.5211   Validation loss: 4.4522\n",
      "Epoch: 30   Training loss: 4.4058   Validation loss: 4.3501\n",
      "Epoch: 40   Training loss: 4.3129   Validation loss: 4.2480\n",
      "Epoch: 50   Training loss: 4.2165   Validation loss: 4.1460\n",
      "Epoch: 60   Training loss: 4.1086   Validation loss: 4.0459\n",
      "Epoch: 70   Training loss: 4.0297   Validation loss: 3.9490\n",
      "Epoch: 80   Training loss: 3.9518   Validation loss: 3.8570\n",
      "Epoch: 90   Training loss: 3.8715   Validation loss: 3.7716\n",
      "Epoch: 100   Training loss: 3.7981   Validation loss: 3.6942\n",
      "Epoch: 110   Training loss: 3.7192   Validation loss: 3.6250\n",
      "Epoch: 120   Training loss: 3.6783   Validation loss: 3.5645\n",
      "Epoch: 130   Training loss: 3.6387   Validation loss: 3.5119\n",
      "Epoch: 140   Training loss: 3.5785   Validation loss: 3.4657\n",
      "Epoch: 150   Training loss: 3.5345   Validation loss: 3.4261\n",
      "Epoch: 160   Training loss: 3.5015   Validation loss: 3.3923\n",
      "Epoch: 170   Training loss: 3.4804   Validation loss: 3.3628\n",
      "Epoch: 180   Training loss: 3.4462   Validation loss: 3.3370\n",
      "Epoch: 190   Training loss: 3.4233   Validation loss: 3.3147\n",
      "Epoch: 200   Training loss: 3.4071   Validation loss: 3.2951\n",
      "Epoch: 210   Training loss: 3.3890   Validation loss: 3.2773\n",
      "Epoch: 220   Training loss: 3.3774   Validation loss: 3.2616\n",
      "Epoch: 230   Training loss: 3.3652   Validation loss: 3.2473\n",
      "Epoch: 240   Training loss: 3.3497   Validation loss: 3.2340\n",
      "Epoch: 250   Training loss: 3.3472   Validation loss: 3.2223\n",
      "Epoch: 260   Training loss: 3.3246   Validation loss: 3.2113\n",
      "Epoch: 270   Training loss: 3.3265   Validation loss: 3.2012\n",
      "Epoch: 280   Training loss: 3.3158   Validation loss: 3.1914\n",
      "Epoch: 290   Training loss: 3.2962   Validation loss: 3.1827\n",
      "Epoch: 300   Training loss: 3.3060   Validation loss: 3.1745\n",
      "Epoch: 310   Training loss: 3.2939   Validation loss: 3.1661\n",
      "Epoch: 320   Training loss: 3.2800   Validation loss: 3.1584\n",
      "Epoch: 330   Training loss: 3.2805   Validation loss: 3.1509\n",
      "Epoch: 340   Training loss: 3.2769   Validation loss: 3.1434\n",
      "Epoch: 350   Training loss: 3.2659   Validation loss: 3.1367\n",
      "Epoch: 360   Training loss: 3.2515   Validation loss: 3.1301\n",
      "Epoch: 370   Training loss: 3.2465   Validation loss: 3.1237\n",
      "Epoch: 380   Training loss: 3.2462   Validation loss: 3.1166\n",
      "Epoch: 390   Training loss: 3.2438   Validation loss: 3.1100\n",
      "Epoch: 400   Training loss: 3.2469   Validation loss: 3.1040\n",
      "Epoch: 410   Training loss: 3.2436   Validation loss: 3.0979\n",
      "Epoch: 420   Training loss: 3.2367   Validation loss: 3.0915\n",
      "Epoch: 430   Training loss: 3.2248   Validation loss: 3.0855\n",
      "Epoch: 440   Training loss: 3.2301   Validation loss: 3.0789\n",
      "Epoch: 450   Training loss: 3.2180   Validation loss: 3.0727\n",
      "Epoch: 460   Training loss: 3.2100   Validation loss: 3.0661\n",
      "Epoch: 470   Training loss: 3.2159   Validation loss: 3.0604\n",
      "Epoch: 480   Training loss: 3.2127   Validation loss: 3.0542\n",
      "Epoch: 490   Training loss: 3.2116   Validation loss: 3.0479\n",
      "Epoch: 500   Training loss: 3.1951   Validation loss: 3.0421\n",
      "Epoch: 510   Training loss: 3.1939   Validation loss: 3.0361\n",
      "Epoch: 520   Training loss: 3.1927   Validation loss: 3.0299\n",
      "Epoch: 530   Training loss: 3.1886   Validation loss: 3.0245\n",
      "Epoch: 540   Training loss: 3.1905   Validation loss: 3.0186\n",
      "Epoch: 550   Training loss: 3.1736   Validation loss: 3.0132\n",
      "Epoch: 560   Training loss: 3.1702   Validation loss: 3.0077\n",
      "Epoch: 570   Training loss: 3.1774   Validation loss: 3.0020\n",
      "Epoch: 580   Training loss: 3.1608   Validation loss: 2.9966\n",
      "Epoch: 590   Training loss: 3.1742   Validation loss: 2.9914\n",
      "Epoch: 600   Training loss: 3.1619   Validation loss: 2.9860\n",
      "Epoch: 610   Training loss: 3.1548   Validation loss: 2.9808\n",
      "Epoch: 620   Training loss: 3.1579   Validation loss: 2.9756\n",
      "Epoch: 630   Training loss: 3.1477   Validation loss: 2.9704\n",
      "Epoch: 640   Training loss: 3.1536   Validation loss: 2.9654\n",
      "Epoch: 650   Training loss: 3.1523   Validation loss: 2.9607\n",
      "Epoch: 660   Training loss: 3.1536   Validation loss: 2.9564\n",
      "Epoch: 670   Training loss: 3.1408   Validation loss: 2.9518\n",
      "Epoch: 680   Training loss: 3.1358   Validation loss: 2.9482\n",
      "Epoch: 690   Training loss: 3.1285   Validation loss: 2.9438\n",
      "Epoch: 700   Training loss: 3.1247   Validation loss: 2.9396\n",
      "Epoch: 710   Training loss: 3.1297   Validation loss: 2.9356\n",
      "Epoch: 720   Training loss: 3.1248   Validation loss: 2.9318\n",
      "Epoch: 730   Training loss: 3.1233   Validation loss: 2.9276\n",
      "Epoch: 740   Training loss: 3.1200   Validation loss: 2.9243\n",
      "Epoch: 750   Training loss: 3.1231   Validation loss: 2.9205\n",
      "Epoch: 760   Training loss: 3.1082   Validation loss: 2.9175\n",
      "Epoch: 770   Training loss: 3.1064   Validation loss: 2.9139\n",
      "Epoch: 780   Training loss: 3.1020   Validation loss: 2.9108\n",
      "Epoch: 790   Training loss: 3.1069   Validation loss: 2.9080\n",
      "Epoch: 800   Training loss: 3.1029   Validation loss: 2.9048\n",
      "Epoch: 810   Training loss: 3.0925   Validation loss: 2.9022\n",
      "Epoch: 820   Training loss: 3.0938   Validation loss: 2.8998\n",
      "Epoch: 830   Training loss: 3.0878   Validation loss: 2.8972\n",
      "Epoch: 840   Training loss: 3.0950   Validation loss: 2.8948\n",
      "Epoch: 850   Training loss: 3.0885   Validation loss: 2.8925\n",
      "Epoch: 860   Training loss: 3.0817   Validation loss: 2.8902\n",
      "Epoch: 870   Training loss: 3.0877   Validation loss: 2.8882\n",
      "Epoch: 880   Training loss: 3.0691   Validation loss: 2.8860\n",
      "Epoch: 890   Training loss: 3.0681   Validation loss: 2.8840\n",
      "Epoch: 900   Training loss: 3.0739   Validation loss: 2.8818\n",
      "Epoch: 910   Training loss: 3.0802   Validation loss: 2.8799\n",
      "Epoch: 920   Training loss: 3.0732   Validation loss: 2.8785\n",
      "Epoch: 930   Training loss: 3.0690   Validation loss: 2.8767\n",
      "Epoch: 940   Training loss: 3.0670   Validation loss: 2.8754\n",
      "Epoch: 950   Training loss: 3.0642   Validation loss: 2.8740\n",
      "Epoch: 960   Training loss: 3.0548   Validation loss: 2.8728\n",
      "Epoch: 970   Training loss: 3.0582   Validation loss: 2.8711\n",
      "Epoch: 980   Training loss: 3.0617   Validation loss: 2.8697\n",
      "Epoch: 990   Training loss: 3.0616   Validation loss: 2.8683\n",
      "Epoch: 1000   Training loss: 3.0503   Validation loss: 2.8669\n",
      "Epoch: 1010   Training loss: 3.0432   Validation loss: 2.8661\n",
      "Epoch: 1020   Training loss: 3.0481   Validation loss: 2.8653\n",
      "Epoch: 1030   Training loss: 3.0381   Validation loss: 2.8638\n",
      "Epoch: 1040   Training loss: 3.0393   Validation loss: 2.8631\n",
      "Epoch: 1050   Training loss: 3.0399   Validation loss: 2.8620\n",
      "Epoch: 1060   Training loss: 3.0516   Validation loss: 2.8607\n",
      "Epoch: 1070   Training loss: 3.0376   Validation loss: 2.8596\n",
      "Epoch: 1080   Training loss: 3.0383   Validation loss: 2.8589\n",
      "Epoch: 1090   Training loss: 3.0389   Validation loss: 2.8579\n",
      "Epoch: 1100   Training loss: 3.0276   Validation loss: 2.8569\n",
      "Epoch: 1110   Training loss: 3.0260   Validation loss: 2.8561\n",
      "Epoch: 1120   Training loss: 3.0206   Validation loss: 2.8553\n",
      "Epoch: 1130   Training loss: 3.0270   Validation loss: 2.8543\n",
      "Epoch: 1140   Training loss: 3.0181   Validation loss: 2.8532\n",
      "Epoch: 1150   Training loss: 3.0150   Validation loss: 2.8524\n",
      "Epoch: 1160   Training loss: 3.0150   Validation loss: 2.8515\n",
      "Epoch: 1170   Training loss: 3.0071   Validation loss: 2.8507\n",
      "Epoch: 1180   Training loss: 3.0073   Validation loss: 2.8502\n",
      "Epoch: 1190   Training loss: 3.0104   Validation loss: 2.8490\n",
      "Epoch: 1200   Training loss: 3.0116   Validation loss: 2.8476\n",
      "Epoch: 1210   Training loss: 3.0052   Validation loss: 2.8470\n",
      "Epoch: 1220   Training loss: 3.0054   Validation loss: 2.8458\n",
      "Epoch: 1230   Training loss: 3.0000   Validation loss: 2.8445\n",
      "Epoch: 1240   Training loss: 2.9820   Validation loss: 2.8438\n",
      "Epoch: 1250   Training loss: 2.9850   Validation loss: 2.8427\n",
      "Epoch: 1260   Training loss: 2.9883   Validation loss: 2.8418\n",
      "Epoch: 1270   Training loss: 2.9736   Validation loss: 2.8410\n",
      "Epoch: 1280   Training loss: 2.9818   Validation loss: 2.8397\n",
      "Epoch: 1290   Training loss: 2.9746   Validation loss: 2.8383\n",
      "Epoch: 1300   Training loss: 2.9763   Validation loss: 2.8370\n",
      "Epoch: 1310   Training loss: 2.9781   Validation loss: 2.8359\n",
      "Epoch: 1320   Training loss: 2.9800   Validation loss: 2.8343\n",
      "Epoch: 1330   Training loss: 2.9733   Validation loss: 2.8334\n",
      "Epoch: 1340   Training loss: 2.9606   Validation loss: 2.8320\n",
      "Epoch: 1350   Training loss: 2.9624   Validation loss: 2.8301\n",
      "Epoch: 1360   Training loss: 2.9608   Validation loss: 2.8288\n",
      "Epoch: 1370   Training loss: 2.9572   Validation loss: 2.8274\n",
      "Epoch: 1380   Training loss: 2.9474   Validation loss: 2.8259\n",
      "Epoch: 1390   Training loss: 2.9457   Validation loss: 2.8239\n",
      "Epoch: 1400   Training loss: 2.9449   Validation loss: 2.8220\n",
      "Epoch: 1410   Training loss: 2.9462   Validation loss: 2.8202\n",
      "Epoch: 1420   Training loss: 2.9410   Validation loss: 2.8182\n",
      "Epoch: 1430   Training loss: 2.9337   Validation loss: 2.8165\n",
      "Epoch: 1440   Training loss: 2.9395   Validation loss: 2.8147\n",
      "Epoch: 1450   Training loss: 2.9294   Validation loss: 2.8129\n",
      "Epoch: 1460   Training loss: 2.9288   Validation loss: 2.8114\n",
      "Epoch: 1470   Training loss: 2.9345   Validation loss: 2.8088\n",
      "Epoch: 1480   Training loss: 2.9229   Validation loss: 2.8068\n",
      "Epoch: 1490   Training loss: 2.9310   Validation loss: 2.8053\n",
      "Epoch: 1500   Training loss: 2.9143   Validation loss: 2.8029\n",
      "Epoch: 1510   Training loss: 2.9195   Validation loss: 2.8009\n",
      "Epoch: 1520   Training loss: 2.9104   Validation loss: 2.7992\n",
      "Epoch: 1530   Training loss: 2.9184   Validation loss: 2.7968\n",
      "Epoch: 1540   Training loss: 2.9019   Validation loss: 2.7941\n",
      "Epoch: 1550   Training loss: 2.9162   Validation loss: 2.7922\n",
      "Epoch: 1560   Training loss: 2.9165   Validation loss: 2.7904\n",
      "Epoch: 1570   Training loss: 2.9056   Validation loss: 2.7882\n",
      "Epoch: 1580   Training loss: 2.8963   Validation loss: 2.7862\n",
      "Epoch: 1590   Training loss: 2.9023   Validation loss: 2.7837\n",
      "Epoch: 1600   Training loss: 2.9093   Validation loss: 2.7816\n",
      "Epoch: 1610   Training loss: 2.8979   Validation loss: 2.7801\n",
      "Epoch: 1620   Training loss: 2.8884   Validation loss: 2.7780\n",
      "Epoch: 1630   Training loss: 2.8849   Validation loss: 2.7756\n",
      "Epoch: 1640   Training loss: 2.8949   Validation loss: 2.7736\n",
      "Epoch: 1650   Training loss: 2.8862   Validation loss: 2.7727\n",
      "Epoch: 1660   Training loss: 2.8909   Validation loss: 2.7701\n",
      "Epoch: 1670   Training loss: 2.8716   Validation loss: 2.7680\n",
      "Epoch: 1680   Training loss: 2.8817   Validation loss: 2.7657\n",
      "Epoch: 1690   Training loss: 2.8927   Validation loss: 2.7641\n",
      "Epoch: 1700   Training loss: 2.8701   Validation loss: 2.7621\n",
      "Epoch: 1710   Training loss: 2.8742   Validation loss: 2.7601\n",
      "Epoch: 1720   Training loss: 2.8793   Validation loss: 2.7589\n",
      "Epoch: 1730   Training loss: 2.8828   Validation loss: 2.7570\n",
      "Epoch: 1740   Training loss: 2.8703   Validation loss: 2.7550\n",
      "Epoch: 1750   Training loss: 2.8657   Validation loss: 2.7532\n",
      "Epoch: 1760   Training loss: 2.8762   Validation loss: 2.7521\n",
      "Epoch: 1770   Training loss: 2.8665   Validation loss: 2.7501\n",
      "Epoch: 1780   Training loss: 2.8683   Validation loss: 2.7481\n",
      "Epoch: 1790   Training loss: 2.8698   Validation loss: 2.7474\n",
      "Epoch: 1800   Training loss: 2.8614   Validation loss: 2.7465\n",
      "Epoch: 1810   Training loss: 2.8718   Validation loss: 2.7444\n",
      "Epoch: 1820   Training loss: 2.8661   Validation loss: 2.7426\n",
      "Epoch: 1830   Training loss: 2.8698   Validation loss: 2.7423\n",
      "Epoch: 1840   Training loss: 2.8661   Validation loss: 2.7404\n",
      "Epoch: 1850   Training loss: 2.8690   Validation loss: 2.7385\n",
      "Epoch: 1860   Training loss: 2.8573   Validation loss: 2.7374\n",
      "Epoch: 1870   Training loss: 2.8634   Validation loss: 2.7359\n",
      "Epoch: 1880   Training loss: 2.8554   Validation loss: 2.7350\n",
      "Epoch: 1890   Training loss: 2.8579   Validation loss: 2.7343\n",
      "Epoch: 1900   Training loss: 2.8599   Validation loss: 2.7332\n",
      "Epoch: 1910   Training loss: 2.8603   Validation loss: 2.7321\n",
      "Epoch: 1920   Training loss: 2.8617   Validation loss: 2.7311\n",
      "Epoch: 1930   Training loss: 2.8508   Validation loss: 2.7298\n",
      "Epoch: 1940   Training loss: 2.8530   Validation loss: 2.7297\n",
      "Epoch: 1950   Training loss: 2.8517   Validation loss: 2.7286\n",
      "Epoch: 1960   Training loss: 2.8536   Validation loss: 2.7278\n",
      "Epoch: 1970   Training loss: 2.8561   Validation loss: 2.7264\n",
      "Epoch: 1980   Training loss: 2.8561   Validation loss: 2.7264\n",
      "Early stopping\n"
     ]
    }
   ],
   "source": [
    "train_validate_rt_model(model, train_dataloader, val_dataloader, loss_function, optimizer, num_epochs, patience, print_every=10)"
   ]
  },
  {
   "cell_type": "code",
   "execution_count": 24,
   "metadata": {
    "metadata": {}
   },
   "outputs": [],
   "source": [
    "test_predictions = model(x_test).squeeze(-1)\n",
    "\n",
    "survival_predictions = test_predictions[:, :, 0:1].squeeze(-1)\n",
    "recurrent_predictions = test_predictions[:, :, 1:2].squeeze(-1)"
   ]
  },
  {
   "cell_type": "code",
   "execution_count": 25,
   "metadata": {
    "metadata": {}
   },
   "outputs": [
    {
     "data": {
      "text/plain": [
       "{'Time 3': 0.9697368421052632,\n",
       " 'Time 4': 0.9749497470720346,\n",
       " 'Time 5': 0.9749497470720346,\n",
       " 'Time 6': 0.9749497470720346}"
      ]
     },
     "execution_count": 25,
     "metadata": {},
     "output_type": "execute_result"
    }
   ],
   "source": [
    "survival_cindex(survival_predictions, d_train, t_train, d_test, t_test)"
   ]
  },
  {
   "cell_type": "code",
   "execution_count": 26,
   "metadata": {},
   "outputs": [
    {
     "data": {
      "text/plain": [
       "{'Time 1': 0.812981298129813,\n",
       " 'Time 2': 0.6587301587301587,\n",
       " 'Time 3': 0.4974924774322969,\n",
       " 'Time 4': 0.5440217391304348,\n",
       " 'Time 5': 0.576226012793177,\n",
       " 'Time 6': 0.576226012793177}"
      ]
     },
     "execution_count": 26,
     "metadata": {},
     "output_type": "execute_result"
    }
   ],
   "source": [
    "recurrent_cindex(recurrent_predictions, e_test, t_test, max_time = 6, horizons = \"all\", tolerance = 0.1)"
   ]
  },
  {
   "cell_type": "code",
   "execution_count": 27,
   "metadata": {},
   "outputs": [],
   "source": [
    "from sklearn.utils import resample\n",
    "\n",
    "nsamples = 200  # Number of bootstrap samples\n",
    "survival_cis = []\n",
    "recurrent_cis = []\n",
    "\n",
    "for sample in range(nsamples):\n",
    "    \n",
    "    # Resample the test data\n",
    "    x_test_resampled, t_test_resampled, e_test_resampled, d_test_resampled = resample(x_test, t_test, e_test, d_test, replace=True)\n",
    "    \n",
    "    # Make predictions on the resampled test data\n",
    "    test_predictions = model(x_test_resampled).squeeze(-1)\n",
    "    \n",
    "    survival_predictions = test_predictions[:, :, 0:1].squeeze(-1)\n",
    "    recurrent_predictions = test_predictions[:, :, 1:2].squeeze(-1)\n",
    "    try: \n",
    "        # Calculate metrics for the resampled test data\n",
    "        survival_cis.append(survival_cindex(survival_predictions, d_train, t_train, d_test_resampled, t_test_resampled))\n",
    "        recurrent_cis.append(recurrent_cindex(recurrent_predictions, e_test_resampled, t_test_resampled, 6))\n",
    "    except: \n",
    "        continue\n"
   ]
  },
  {
   "cell_type": "code",
   "execution_count": 28,
   "metadata": {},
   "outputs": [],
   "source": [
    "def compute_metric_ci(cis, time_key, rounding = 2):\n",
    "    cis_time = [cis[i][time_key] for i in range(len(cis))]\n",
    "    survival_ci_mean = np.mean(cis_time)\n",
    "    survival_ci_std = np.std(np.array(cis_time))\n",
    "    return round(survival_ci_mean, rounding), round(survival_ci_std, rounding)"
   ]
  },
  {
   "cell_type": "code",
   "execution_count": 29,
   "metadata": {},
   "outputs": [
    {
     "name": "stdout",
     "output_type": "stream",
     "text": [
      "Time 3: Mean = 0.97, Std = 0.02\n",
      "Time 4: Mean = 0.98, Std = 0.01\n",
      "Time 5: Mean = 0.98, Std = 0.01\n",
      "Time 6: Mean = 0.98, Std = 0.01\n"
     ]
    }
   ],
   "source": [
    "survival_cis_3_mean, survival_cis_3_std = compute_metric_ci(survival_cis, \"Time 3\")\n",
    "survival_cis_4_mean, survival_cis_4_std = compute_metric_ci(survival_cis, \"Time 4\")\n",
    "survival_cis_5_mean, survival_cis_5_std = compute_metric_ci(survival_cis, \"Time 5\")\n",
    "survival_cis_6_mean, survival_cis_6_std = compute_metric_ci(survival_cis, \"Time 6\")\n",
    "\n",
    "print(f\"Time 3: Mean = {survival_cis_3_mean}, Std = {survival_cis_3_std}\")\n",
    "print(f\"Time 4: Mean = {survival_cis_4_mean}, Std = {survival_cis_4_std}\")\n",
    "print(f\"Time 5: Mean = {survival_cis_5_mean}, Std = {survival_cis_5_std}\")\n",
    "print(f\"Time 6: Mean = {survival_cis_6_mean}, Std = {survival_cis_6_std}\")"
   ]
  },
  {
   "cell_type": "code",
   "execution_count": 30,
   "metadata": {},
   "outputs": [
    {
     "name": "stdout",
     "output_type": "stream",
     "text": [
      "Time 1: Mean = 0.82, Std = 0.04\n",
      "Time 2: Mean = 0.69, Std = 0.05\n",
      "Time 3: Mean = 0.5, Std = 0.06\n",
      "Time 4: Mean = 0.48, Std = 0.06\n",
      "Time 5: Mean = 0.51, Std = 0.06\n",
      "Time 6: Mean = 0.51, Std = 0.06\n"
     ]
    }
   ],
   "source": [
    "recurrent_cis_1_mean, recurrent_cis_1_std = compute_metric_ci(recurrent_cis, \"Time 1\")\n",
    "recurrent_cis_2_mean, recurrent_cis_2_std = compute_metric_ci(recurrent_cis, \"Time 2\")\n",
    "recurrent_cis_3_mean, recurrent_cis_3_std = compute_metric_ci(recurrent_cis, \"Time 3\")\n",
    "recurrent_cis_4_mean, recurrent_cis_4_std = compute_metric_ci(recurrent_cis, \"Time 4\")\n",
    "recurrent_cis_5_mean, recurrent_cis_5_std = compute_metric_ci(recurrent_cis, \"Time 5\")\n",
    "recurrent_cis_6_mean, recurrent_cis_6_std = compute_metric_ci(recurrent_cis, \"Time 6\")\n",
    "\n",
    "print(f\"Time 1: Mean = {recurrent_cis_1_mean}, Std = {recurrent_cis_1_std}\")\n",
    "print(f\"Time 2: Mean = {recurrent_cis_2_mean}, Std = {recurrent_cis_2_std}\")\n",
    "print(f\"Time 3: Mean = {recurrent_cis_3_mean}, Std = {recurrent_cis_3_std}\")\n",
    "print(f\"Time 4: Mean = {recurrent_cis_4_mean}, Std = {recurrent_cis_4_std}\")\n",
    "print(f\"Time 5: Mean = {recurrent_cis_5_mean}, Std = {recurrent_cis_5_std}\")\n",
    "print(f\"Time 6: Mean = {recurrent_cis_6_mean}, Std = {recurrent_cis_6_std}\")"
   ]
  }
 ],
 "metadata": {
  "kernelspec": {
   "display_name": "Python 3",
   "language": "python",
   "name": "python3"
  },
  "language_info": {
   "codemirror_mode": {
    "name": "ipython",
    "version": 3
   },
   "file_extension": ".py",
   "mimetype": "text/x-python",
   "name": "python",
   "nbconvert_exporter": "python",
   "pygments_lexer": "ipython3",
   "version": "3.11.4"
  }
 },
 "nbformat": 4,
 "nbformat_minor": 2
}
