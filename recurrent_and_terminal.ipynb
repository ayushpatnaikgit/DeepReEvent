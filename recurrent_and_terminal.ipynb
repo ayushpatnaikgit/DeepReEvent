{
 "cells": [
  {
   "cell_type": "code",
   "execution_count": 31,
   "metadata": {
    "metadata": {}
   },
   "outputs": [],
   "source": [
    "from src.data import _load_readmission_dataset, _load_simData\n",
    "from src.helper_functions import _prepare_rt_tensors, _prepare_dataloaders, set_seed\n",
    "from src.models import *\n",
    "from src.losses import *    \n",
    "from src.training import *\n",
    "from src.metrics import *"
   ]
  },
  {
   "cell_type": "code",
   "execution_count": 32,
   "metadata": {},
   "outputs": [],
   "source": [
    "set_seed(42)"
   ]
  },
  {
   "cell_type": "code",
   "execution_count": 33,
   "metadata": {
    "metadata": {}
   },
   "outputs": [],
   "source": [
    "# set device\n",
    "device = torch.device(\"cuda\" if torch.cuda.is_available() else \"cpu\")"
   ]
  },
  {
   "cell_type": "code",
   "execution_count": 34,
   "metadata": {
    "metadata": {}
   },
   "outputs": [
    {
     "name": "stderr",
     "output_type": "stream",
     "text": [
      "/home/ayush/DeepReEvent/src/data.py:47: FutureWarning: The provided callable <built-in function max> is currently using SeriesGroupBy.max. In a future version of pandas, the provided callable will be used directly. To keep current behavior pass the string \"max\" instead.\n",
      "  data['max_time'] = data.groupby('id')['t.stop'].transform(max)\n"
     ]
    }
   ],
   "source": [
    "x, t, e, d = _load_readmission_dataset(sequential=True)"
   ]
  },
  {
   "cell_type": "code",
   "execution_count": 35,
   "metadata": {
    "metadata": {}
   },
   "outputs": [],
   "source": [
    "readmission_tensor = _prepare_rt_tensors(x, t, e, d)\n",
    "locals().update(readmission_tensor) # create variables from dictionary"
   ]
  },
  {
   "cell_type": "code",
   "execution_count": 36,
   "metadata": {
    "metadata": {}
   },
   "outputs": [],
   "source": [
    "train_dataloader, val_dataloader, test_dataloader = _prepare_dataloaders(readmission_tensor, batch_size=32)"
   ]
  },
  {
   "cell_type": "code",
   "execution_count": 37,
   "metadata": {
    "metadata": {}
   },
   "outputs": [],
   "source": [
    "# model and training parameters\n",
    "\n",
    "input_size = len(x[0]) \n",
    "output_size = int(max(t))\n",
    "hidden_size = 8   # Number of units in the RNN layer\n",
    "\n",
    "model = SimpleLSTM(input_size, hidden_size, output_size, 2, 0.1)\n",
    "\n",
    "# Instantiate the model\n",
    "\n",
    "num_epochs = 10000\n",
    "patience = 3  # Number of epochs to wait for improvement before stopping\n",
    "best_val_loss = float('inf')\n",
    "wait = 0\n",
    "loss_function = recurrent_terminal_loss\n",
    "\n",
    "model = model.to(device)\n",
    "optimizer = torch.optim.Adam(model.parameters(),  lr=1e-4, weight_decay=1e-7)"
   ]
  },
  {
   "cell_type": "code",
   "execution_count": 38,
   "metadata": {
    "metadata": {}
   },
   "outputs": [
    {
     "name": "stdout",
     "output_type": "stream",
     "text": [
      "Epoch: 0   Training loss: 5.3275   Validation loss: 5.2912\n"
     ]
    },
    {
     "name": "stdout",
     "output_type": "stream",
     "text": [
      "Epoch: 10   Training loss: 5.2624   Validation loss: 5.2202\n",
      "Epoch: 20   Training loss: 5.1897   Validation loss: 5.1505\n",
      "Epoch: 30   Training loss: 5.1294   Validation loss: 5.0754\n",
      "Epoch: 40   Training loss: 5.0242   Validation loss: 4.9901\n",
      "Epoch: 50   Training loss: 4.9167   Validation loss: 4.8929\n",
      "Epoch: 60   Training loss: 4.8408   Validation loss: 4.7810\n",
      "Epoch: 70   Training loss: 4.6890   Validation loss: 4.6572\n",
      "Epoch: 80   Training loss: 4.5527   Validation loss: 4.5297\n",
      "Epoch: 90   Training loss: 4.4456   Validation loss: 4.4060\n",
      "Epoch: 100   Training loss: 4.3008   Validation loss: 4.2927\n",
      "Epoch: 110   Training loss: 4.2049   Validation loss: 4.1894\n",
      "Epoch: 120   Training loss: 4.1191   Validation loss: 4.0974\n",
      "Epoch: 130   Training loss: 4.0681   Validation loss: 4.0131\n",
      "Epoch: 140   Training loss: 3.9881   Validation loss: 3.9371\n",
      "Epoch: 150   Training loss: 3.9175   Validation loss: 3.8708\n",
      "Epoch: 160   Training loss: 3.8372   Validation loss: 3.8130\n",
      "Epoch: 170   Training loss: 3.8154   Validation loss: 3.7615\n",
      "Epoch: 180   Training loss: 3.7967   Validation loss: 3.7159\n",
      "Epoch: 190   Training loss: 3.7940   Validation loss: 3.6740\n",
      "Epoch: 200   Training loss: 3.6828   Validation loss: 3.6370\n",
      "Epoch: 210   Training loss: 3.6966   Validation loss: 3.6035\n",
      "Epoch: 220   Training loss: 3.6405   Validation loss: 3.5734\n",
      "Epoch: 230   Training loss: 3.6538   Validation loss: 3.5464\n",
      "Epoch: 240   Training loss: 3.6409   Validation loss: 3.5208\n",
      "Epoch: 250   Training loss: 3.5946   Validation loss: 3.4964\n",
      "Epoch: 260   Training loss: 3.6337   Validation loss: 3.4741\n",
      "Epoch: 270   Training loss: 3.5868   Validation loss: 3.4527\n",
      "Epoch: 280   Training loss: 3.5102   Validation loss: 3.4341\n",
      "Epoch: 290   Training loss: 3.5670   Validation loss: 3.4164\n",
      "Epoch: 300   Training loss: 3.5363   Validation loss: 3.3999\n",
      "Epoch: 310   Training loss: 3.5616   Validation loss: 3.3826\n",
      "Epoch: 320   Training loss: 3.5614   Validation loss: 3.3677\n",
      "Epoch: 330   Training loss: 3.4860   Validation loss: 3.3529\n",
      "Epoch: 340   Training loss: 3.5572   Validation loss: 3.3410\n",
      "Epoch: 350   Training loss: 3.5041   Validation loss: 3.3283\n",
      "Epoch: 360   Training loss: 3.4872   Validation loss: 3.3145\n",
      "Epoch: 370   Training loss: 3.4980   Validation loss: 3.3026\n",
      "Epoch: 380   Training loss: 3.4807   Validation loss: 3.2922\n",
      "Epoch: 390   Training loss: 3.4894   Validation loss: 3.2829\n",
      "Epoch: 400   Training loss: 3.4676   Validation loss: 3.2727\n",
      "Epoch: 410   Training loss: 3.4406   Validation loss: 3.2616\n",
      "Epoch: 420   Training loss: 3.4463   Validation loss: 3.2515\n",
      "Epoch: 430   Training loss: 3.4332   Validation loss: 3.2420\n",
      "Epoch: 440   Training loss: 3.4315   Validation loss: 3.2318\n",
      "Epoch: 450   Training loss: 3.3907   Validation loss: 3.2222\n",
      "Epoch: 460   Training loss: 3.4349   Validation loss: 3.2137\n",
      "Epoch: 470   Training loss: 3.4635   Validation loss: 3.2045\n",
      "Epoch: 480   Training loss: 3.4079   Validation loss: 3.1946\n",
      "Epoch: 490   Training loss: 3.4432   Validation loss: 3.1866\n",
      "Epoch: 500   Training loss: 3.3658   Validation loss: 3.1788\n",
      "Epoch: 510   Training loss: 3.4345   Validation loss: 3.1685\n",
      "Epoch: 520   Training loss: 3.4156   Validation loss: 3.1626\n",
      "Epoch: 530   Training loss: 3.3828   Validation loss: 3.1537\n",
      "Epoch: 540   Training loss: 3.3417   Validation loss: 3.1446\n",
      "Epoch: 550   Training loss: 3.3742   Validation loss: 3.1361\n",
      "Epoch: 560   Training loss: 3.3501   Validation loss: 3.1282\n",
      "Epoch: 570   Training loss: 3.3178   Validation loss: 3.1199\n",
      "Epoch: 580   Training loss: 3.3619   Validation loss: 3.1103\n",
      "Epoch: 590   Training loss: 3.3418   Validation loss: 3.1035\n",
      "Epoch: 600   Training loss: 3.3235   Validation loss: 3.0989\n",
      "Epoch: 610   Training loss: 3.2703   Validation loss: 3.0922\n",
      "Epoch: 620   Training loss: 3.3088   Validation loss: 3.0869\n",
      "Epoch: 630   Training loss: 3.3238   Validation loss: 3.0794\n",
      "Epoch: 640   Training loss: 3.3603   Validation loss: 3.0744\n",
      "Epoch: 650   Training loss: 3.3023   Validation loss: 3.0665\n",
      "Epoch: 660   Training loss: 3.3269   Validation loss: 3.0619\n",
      "Epoch: 670   Training loss: 3.3016   Validation loss: 3.0562\n",
      "Epoch: 680   Training loss: 3.3158   Validation loss: 3.0494\n",
      "Epoch: 690   Training loss: 3.2605   Validation loss: 3.0433\n",
      "Epoch: 700   Training loss: 3.3210   Validation loss: 3.0396\n",
      "Epoch: 710   Training loss: 3.2790   Validation loss: 3.0360\n",
      "Epoch: 720   Training loss: 3.3293   Validation loss: 3.0309\n",
      "Epoch: 730   Training loss: 3.3079   Validation loss: 3.0269\n",
      "Epoch: 740   Training loss: 3.3064   Validation loss: 3.0225\n",
      "Epoch: 750   Training loss: 3.2903   Validation loss: 3.0197\n",
      "Epoch: 760   Training loss: 3.2910   Validation loss: 3.0154\n",
      "Epoch: 770   Training loss: 3.3274   Validation loss: 3.0115\n",
      "Epoch: 780   Training loss: 3.2777   Validation loss: 3.0086\n",
      "Early stopping\n"
     ]
    }
   ],
   "source": [
    "train_validate_rt_model(model, train_dataloader, val_dataloader, loss_function, optimizer, num_epochs, patience, print_every=10)"
   ]
  },
  {
   "cell_type": "code",
   "execution_count": 39,
   "metadata": {
    "metadata": {}
   },
   "outputs": [],
   "source": [
    "test_predictions = model(x_test).squeeze(-1)\n",
    "\n",
    "survival_predictions = test_predictions[:, :, 0:1].squeeze(-1)\n",
    "recurrent_predictions = test_predictions[:, :, 1:2].squeeze(-1)"
   ]
  },
  {
   "cell_type": "code",
   "execution_count": 40,
   "metadata": {
    "metadata": {}
   },
   "outputs": [
    {
     "data": {
      "text/plain": [
       "{'Time 3': 0.9381578947368422,\n",
       " 'Time 4': 0.9226709583528018,\n",
       " 'Time 5': 0.8899967154032816,\n",
       " 'Time 6': 0.874748735360172}"
      ]
     },
     "execution_count": 40,
     "metadata": {},
     "output_type": "execute_result"
    }
   ],
   "source": [
    "calculate_survival_metrics(survival_predictions, d_train, t_train, d_test, t_test)"
   ]
  },
  {
   "cell_type": "code",
   "execution_count": 41,
   "metadata": {},
   "outputs": [
    {
     "data": {
      "text/plain": [
       "{'Time 1': 0.8267326732673267,\n",
       " 'Time 2': 0.5223214285714286,\n",
       " 'Time 3': 0.42076228686058176,\n",
       " 'Time 4': 0.4842391304347826,\n",
       " 'Time 5': 0.5207889125799574,\n",
       " 'Time 6': 0.5207889125799574}"
      ]
     },
     "execution_count": 41,
     "metadata": {},
     "output_type": "execute_result"
    }
   ],
   "source": [
    "recurrent_cindex(recurrent_predictions, e_test, t_test, max_time = 6, horizons = \"all\", tolerance = 0.1)"
   ]
  },
  {
   "cell_type": "code",
   "execution_count": 42,
   "metadata": {},
   "outputs": [],
   "source": [
    "from sklearn.utils import resample\n",
    "\n",
    "nsamples = 100  # Number of bootstrap samples\n",
    "survival_cis = []\n",
    "recurrent_cis = []\n",
    "\n",
    "for sample in range(nsamples):\n",
    "    \n",
    "    # Resample the test data\n",
    "    x_test_resampled, t_test_resampled, e_test_resampled, d_test_resampled = resample(x_test, t_test, e_test, d_test, replace=True)\n",
    "    \n",
    "    # Make predictions on the resampled test data\n",
    "    test_predictions = model(x_test_resampled).squeeze(-1)\n",
    "    \n",
    "    survival_predictions = test_predictions[:, :, 0:1].squeeze(-1)\n",
    "    recurrent_predictions = test_predictions[:, :, 1:2].squeeze(-1)\n",
    "    try: \n",
    "        # Calculate metrics for the resampled test data\n",
    "        survival_cis.append(calculate_survival_metrics(survival_predictions, d_train, t_train, d_test_resampled, t_test_resampled))\n",
    "        recurrent_cis.append(recurrent_cindex(recurrent_predictions, e_test_resampled, t_test_resampled, 6))\n",
    "    except: \n",
    "        continue\n"
   ]
  },
  {
   "cell_type": "code",
   "execution_count": 43,
   "metadata": {},
   "outputs": [],
   "source": [
    "def compute_metric_ci(cis, time_key, rounding = 2):\n",
    "    cis_time = [cis[i][time_key] for i in range(len(cis))]\n",
    "    survival_ci_mean = np.mean(cis_time)\n",
    "    survival_ci_std = np.std(np.array(cis_time))\n",
    "    return round(survival_ci_mean, rounding), round(survival_ci_std, rounding)"
   ]
  },
  {
   "cell_type": "code",
   "execution_count": 44,
   "metadata": {},
   "outputs": [
    {
     "name": "stdout",
     "output_type": "stream",
     "text": [
      "Time 3: Mean = 0.94, Std = 0.03\n",
      "Time 4: Mean = 0.92, Std = 0.05\n",
      "Time 5: Mean = 0.89, Std = 0.08\n",
      "Time 6: Mean = 0.87, Std = 0.09\n"
     ]
    }
   ],
   "source": [
    "survival_cis_3_mean, survival_cis_3_std = compute_metric_ci(survival_cis, \"Time 3\")\n",
    "survival_cis_4_mean, survival_cis_4_std = compute_metric_ci(survival_cis, \"Time 4\")\n",
    "survival_cis_5_mean, survival_cis_5_std = compute_metric_ci(survival_cis, \"Time 5\")\n",
    "survival_cis_6_mean, survival_cis_6_std = compute_metric_ci(survival_cis, \"Time 6\")\n",
    "\n",
    "print(f\"Time 3: Mean = {survival_cis_3_mean}, Std = {survival_cis_3_std}\")\n",
    "print(f\"Time 4: Mean = {survival_cis_4_mean}, Std = {survival_cis_4_std}\")\n",
    "print(f\"Time 5: Mean = {survival_cis_5_mean}, Std = {survival_cis_5_std}\")\n",
    "print(f\"Time 6: Mean = {survival_cis_6_mean}, Std = {survival_cis_6_std}\")"
   ]
  },
  {
   "cell_type": "code",
   "execution_count": 45,
   "metadata": {},
   "outputs": [
    {
     "name": "stdout",
     "output_type": "stream",
     "text": [
      "Time 1: Mean = 0.84, Std = 0.03\n",
      "Time 2: Mean = 0.53, Std = 0.06\n",
      "Time 3: Mean = 0.44, Std = 0.05\n",
      "Time 4: Mean = 0.44, Std = 0.06\n",
      "Time 5: Mean = 0.48, Std = 0.07\n",
      "Time 6: Mean = 0.48, Std = 0.07\n"
     ]
    }
   ],
   "source": [
    "recurrent_cis_1_mean, recurrent_cis_1_std = compute_metric_ci(recurrent_cis, \"Time 1\")\n",
    "recurrent_cis_2_mean, recurrent_cis_2_std = compute_metric_ci(recurrent_cis, \"Time 2\")\n",
    "recurrent_cis_3_mean, recurrent_cis_3_std = compute_metric_ci(recurrent_cis, \"Time 3\")\n",
    "recurrent_cis_4_mean, recurrent_cis_4_std = compute_metric_ci(recurrent_cis, \"Time 4\")\n",
    "recurrent_cis_5_mean, recurrent_cis_5_std = compute_metric_ci(recurrent_cis, \"Time 5\")\n",
    "recurrent_cis_6_mean, recurrent_cis_6_std = compute_metric_ci(recurrent_cis, \"Time 6\")\n",
    "\n",
    "print(f\"Time 1: Mean = {recurrent_cis_1_mean}, Std = {recurrent_cis_1_std}\")\n",
    "print(f\"Time 2: Mean = {recurrent_cis_2_mean}, Std = {recurrent_cis_2_std}\")\n",
    "print(f\"Time 3: Mean = {recurrent_cis_3_mean}, Std = {recurrent_cis_3_std}\")\n",
    "print(f\"Time 4: Mean = {recurrent_cis_4_mean}, Std = {recurrent_cis_4_std}\")\n",
    "print(f\"Time 5: Mean = {recurrent_cis_5_mean}, Std = {recurrent_cis_5_std}\")\n",
    "print(f\"Time 6: Mean = {recurrent_cis_6_mean}, Std = {recurrent_cis_6_std}\")"
   ]
  }
 ],
 "metadata": {
  "kernelspec": {
   "display_name": "Python 3",
   "language": "python",
   "name": "python3"
  },
  "language_info": {
   "codemirror_mode": {
    "name": "ipython",
    "version": 3
   },
   "file_extension": ".py",
   "mimetype": "text/x-python",
   "name": "python",
   "nbconvert_exporter": "python",
   "pygments_lexer": "ipython3",
   "version": "3.11.4"
  }
 },
 "nbformat": 4,
 "nbformat_minor": 2
}
