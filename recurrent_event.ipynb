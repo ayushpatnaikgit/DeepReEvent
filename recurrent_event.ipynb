{
 "cells": [
  {
   "cell_type": "code",
   "execution_count": 19,
   "metadata": {
    "metadata": {}
   },
   "outputs": [],
   "source": [
    "from src.data import _load_readmission_dataset, _load_simData\n",
    "from src.helper_functions import _prepare_rt_tensors, _prepare_dataloaders\n",
    "from src.models import *\n",
    "from src.losses import *\n",
    "from src.training import *\n",
    "from src.metrics import *"
   ]
  },
  {
   "cell_type": "code",
   "execution_count": 20,
   "metadata": {
    "metadata": {}
   },
   "outputs": [],
   "source": [
    "# set device\n",
    "device = torch.device(\"cuda\" if torch.cuda.is_available() else \"cpu\")"
   ]
  },
  {
   "cell_type": "code",
   "execution_count": 21,
   "metadata": {
    "metadata": {}
   },
   "outputs": [
    {
     "name": "stderr",
     "output_type": "stream",
     "text": [
      "/home/ayush/DeepReEvent/src/data.py:47: FutureWarning: The provided callable <built-in function max> is currently using SeriesGroupBy.max. In a future version of pandas, the provided callable will be used directly. To keep current behavior pass the string \"max\" instead.\n",
      "  data['max_time'] = data.groupby('id')['t.stop'].transform(max)\n"
     ]
    }
   ],
   "source": [
    "x, t, e, d = _load_readmission_dataset(sequential=True)"
   ]
  },
  {
   "cell_type": "code",
   "execution_count": 22,
   "metadata": {
    "metadata": {}
   },
   "outputs": [],
   "source": [
    "readmission_tensor = _prepare_rt_tensors(x, t, e, d)\n",
    "locals().update(readmission_tensor) # create variables from dictionary"
   ]
  },
  {
   "cell_type": "code",
   "execution_count": 23,
   "metadata": {
    "metadata": {}
   },
   "outputs": [],
   "source": [
    "# model and training parameters\n",
    "\n",
    "input_size = len(x[0]) \n",
    "output_size = int(max(t))\n",
    "hidden_size = 8   # Number of units in the RNN layer\n",
    "\n",
    "model = SimpleGRU(input_size, hidden_size, output_size, 1, 0.1)\n",
    "\n",
    "# Instantiate the model\n",
    "\n",
    "num_epochs = 10000\n",
    "patience = 3  # Number of epochs to wait for improvement before stopping\n",
    "best_val_loss = float('inf')\n",
    "wait = 0\n",
    "loss_function = recurrent_loss\n",
    "\n",
    "model = model.to(device)\n",
    "optimizer = torch.optim.Adam(model.parameters(),  lr=1e-4, weight_decay=1e-7)"
   ]
  },
  {
   "cell_type": "code",
   "execution_count": 24,
   "metadata": {
    "metadata": {}
   },
   "outputs": [],
   "source": [
    "#prepare data loaders\n",
    "\n",
    "train_dataloader, val_dataloader, test_dataloader = _prepare_dataloaders(readmission_tensor, batch_size=32)"
   ]
  },
  {
   "cell_type": "code",
   "execution_count": 25,
   "metadata": {
    "metadata": {}
   },
   "outputs": [
    {
     "name": "stdout",
     "output_type": "stream",
     "text": [
      "Epoch: 0   Training loss: 2.8469   Validation loss: 2.9233\n"
     ]
    },
    {
     "name": "stdout",
     "output_type": "stream",
     "text": [
      "Epoch: 10   Training loss: 2.8227   Validation loss: 2.9104\n",
      "Epoch: 20   Training loss: 2.8366   Validation loss: 2.9007\n",
      "Epoch: 30   Training loss: 2.8105   Validation loss: 2.8935\n",
      "Epoch: 40   Training loss: 2.8154   Validation loss: 2.8880\n",
      "Epoch: 50   Training loss: 2.8016   Validation loss: 2.8821\n",
      "Epoch: 60   Training loss: 2.8151   Validation loss: 2.8765\n",
      "Epoch: 70   Training loss: 2.8103   Validation loss: 2.8725\n",
      "Epoch: 80   Training loss: 2.8007   Validation loss: 2.8685\n",
      "Epoch: 90   Training loss: 2.8108   Validation loss: 2.8653\n",
      "Epoch: 100   Training loss: 2.8007   Validation loss: 2.8610\n",
      "Epoch: 110   Training loss: 2.7812   Validation loss: 2.8565\n",
      "Epoch: 120   Training loss: 2.7923   Validation loss: 2.8535\n",
      "Epoch: 130   Training loss: 2.7732   Validation loss: 2.8491\n",
      "Epoch: 140   Training loss: 2.7819   Validation loss: 2.8442\n",
      "Epoch: 150   Training loss: 2.7707   Validation loss: 2.8402\n",
      "Epoch: 160   Training loss: 2.7957   Validation loss: 2.8340\n",
      "Epoch: 170   Training loss: 2.7791   Validation loss: 2.8298\n",
      "Epoch: 180   Training loss: 2.7703   Validation loss: 2.8246\n",
      "Epoch: 190   Training loss: 2.7765   Validation loss: 2.8208\n",
      "Epoch: 200   Training loss: 2.7582   Validation loss: 2.8166\n",
      "Epoch: 210   Training loss: 2.7656   Validation loss: 2.8108\n",
      "Epoch: 220   Training loss: 2.7519   Validation loss: 2.8036\n",
      "Epoch: 230   Training loss: 2.7434   Validation loss: 2.7996\n",
      "Epoch: 240   Training loss: 2.7292   Validation loss: 2.7944\n",
      "Epoch: 250   Training loss: 2.7396   Validation loss: 2.7904\n",
      "Epoch: 260   Training loss: 2.7221   Validation loss: 2.7849\n",
      "Epoch: 270   Training loss: 2.7438   Validation loss: 2.7787\n",
      "Epoch: 280   Training loss: 2.7360   Validation loss: 2.7744\n",
      "Epoch: 290   Training loss: 2.7176   Validation loss: 2.7692\n",
      "Epoch: 300   Training loss: 2.7101   Validation loss: 2.7639\n",
      "Epoch: 310   Training loss: 2.7104   Validation loss: 2.7592\n",
      "Epoch: 320   Training loss: 2.7208   Validation loss: 2.7536\n",
      "Epoch: 330   Training loss: 2.7059   Validation loss: 2.7503\n",
      "Epoch: 340   Training loss: 2.7019   Validation loss: 2.7456\n",
      "Epoch: 350   Training loss: 2.7001   Validation loss: 2.7417\n",
      "Epoch: 360   Training loss: 2.7035   Validation loss: 2.7379\n",
      "Epoch: 370   Training loss: 2.6866   Validation loss: 2.7336\n",
      "Epoch: 380   Training loss: 2.7027   Validation loss: 2.7307\n",
      "Early stopping\n"
     ]
    }
   ],
   "source": [
    "train_validate_recurrent_model(model, train_dataloader, val_dataloader, loss_function, optimizer, num_epochs, patience, print_every=10)"
   ]
  },
  {
   "cell_type": "code",
   "execution_count": 26,
   "metadata": {
    "metadata": {}
   },
   "outputs": [],
   "source": [
    "test_predictions = model(x_test).squeeze(-1)\n",
    "\n",
    "recurrent_predictions = test_predictions.squeeze(-1)"
   ]
  },
  {
   "cell_type": "code",
   "execution_count": 27,
   "metadata": {},
   "outputs": [
    {
     "data": {
      "text/plain": [
       "{'25th Quantile CI': 0.7082486793986185,\n",
       " '50th Quantile CI': 0.5458937198067633,\n",
       " '75th Quantile CI': 0.5458937198067633}"
      ]
     },
     "execution_count": 27,
     "metadata": {},
     "output_type": "execute_result"
    }
   ],
   "source": [
    "import torch\n",
    "recurrent_cindex(recurrent_predictions, e_test, t_test, 12)"
   ]
  },
  {
   "cell_type": "code",
   "execution_count": 28,
   "metadata": {},
   "outputs": [
    {
     "name": "stdout",
     "output_type": "stream",
     "text": [
      "sample:  0\n",
      "Epoch: 0   Training loss: 5.7534   Validation loss: 5.7367\n",
      "Early stopping\n",
      "sample:  1\n",
      "Epoch: 0   Training loss: 5.6968   Validation loss: 5.8596\n",
      "Early stopping\n",
      "sample:  2\n",
      "Epoch: 0   Training loss: 5.7915   Validation loss: 6.0727\n",
      "Early stopping\n",
      "sample:  3\n",
      "Epoch: 0   Training loss: 5.6991   Validation loss: 6.0624\n",
      "Early stopping\n",
      "sample:  4\n",
      "Epoch: 0   Training loss: 5.6931   Validation loss: 5.7041\n",
      "Early stopping\n",
      "sample:  5\n",
      "Epoch: 0   Training loss: 5.7578   Validation loss: 6.1278\n",
      "Early stopping\n",
      "sample:  6\n",
      "Epoch: 0   Training loss: 5.7912   Validation loss: 6.1603\n",
      "Early stopping\n",
      "sample:  7\n",
      "Epoch: 0   Training loss: 5.6752   Validation loss: 5.8329\n",
      "Early stopping\n",
      "sample:  8\n",
      "Epoch: 0   Training loss: 5.6981   Validation loss: 5.8570\n",
      "Early stopping\n",
      "sample:  9\n",
      "Epoch: 0   Training loss: 5.7793   Validation loss: 6.2008\n",
      "Early stopping\n"
     ]
    }
   ],
   "source": [
    "nsamples = 10\n",
    "survival_cis = []\n",
    "recurrent_cis = []\n",
    "for sample in range(0, nsamples): \n",
    "    print(\"sample: \",sample)\n",
    "    readmission_tensor = _prepare_rt_tensors(x, t, e, d)\n",
    "    locals().update(readmission_tensor) # create variables from dictionary\n",
    "\n",
    "    train_dataloader, val_dataloader, test_dataloader = _prepare_dataloaders(readmission_tensor, batch_size=32)\n",
    "\n",
    "    input_size = len(x[0]) \n",
    "    output_size = int(max(t))\n",
    "    hidden_size = 8   # Number of units in the RNN layer\n",
    "\n",
    "    model = SimpleLSTM(input_size, hidden_size, output_size, 2, 0.1)\n",
    "\n",
    "    # Instantiate the model\n",
    "\n",
    "    num_epochs = 10000\n",
    "    patience = 3  # Number of epochs to wait for improvement before stopping\n",
    "    best_val_loss = float('inf')\n",
    "    wait = 0\n",
    "    loss_function = recurrent_loss\n",
    "\n",
    "    model = model.to(device)\n",
    "    optimizer = torch.optim.Adam(model.parameters(),  lr=1e-4, weight_decay=1e-7)\n",
    "    train_validate_recurrent_model(model, train_dataloader, val_dataloader, loss_function, optimizer, num_epochs, patience, print_every=1000)\n",
    "    test_predictions = model(x_test).squeeze(-1)\n",
    "\n",
    "    survival_predictions = test_predictions[:, :, 0:1].squeeze(-1)\n",
    "    recurrent_predictions = test_predictions[:, :, 1:2].squeeze(-1)\n",
    "    recurrent_cis.append(recurrent_cindex(recurrent_predictions, e_test, t_test, 12))"
   ]
  },
  {
   "cell_type": "code",
   "execution_count": null,
   "metadata": {},
   "outputs": [],
   "source": [
    "recurrent_cis_25th = [recurrent_ci['25th Quantile CI'] for recurrent_ci in recurrent_cis]\n",
    "print(\"Standard deviation for the c-index of 25th quantile:\", np.std(np.array(recurrent_cis_25th)))\n",
    "recurrent_cis_50th = [recurrent_ci['50th Quantile CI'] for recurrent_ci in recurrent_cis]\n",
    "print(\"Standard deviation for the c-index of 50th quantile:\", np.std(np.array(recurrent_cis_50th)))\n",
    "recurrent_cis_75th = [recurrent_ci['75th Quantile CI'] for recurrent_ci in recurrent_cis]\n",
    "print(\"Standard deviation for the c-index of 75th quantile:\", np.std(np.array(recurrent_cis_75th)))\n"
   ]
  }
 ],
 "metadata": {
  "kernelspec": {
   "display_name": "Python 3",
   "language": "python",
   "name": "python3"
  },
  "language_info": {
   "codemirror_mode": {
    "name": "ipython",
    "version": 3
   },
   "file_extension": ".py",
   "mimetype": "text/x-python",
   "name": "python",
   "nbconvert_exporter": "python",
   "pygments_lexer": "ipython3",
   "version": "3.11.4"
  }
 },
 "nbformat": 4,
 "nbformat_minor": 2
}
