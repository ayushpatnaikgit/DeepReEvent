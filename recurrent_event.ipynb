{
 "cells": [
  {
   "cell_type": "code",
   "execution_count": 10,
   "metadata": {
    "metadata": {}
   },
   "outputs": [],
   "source": [
    "from src.data import _load_readmission_dataset, _load_simData\n",
    "from src.helper_functions import _prepare_rt_tensors, _prepare_dataloaders\n",
    "from src.models import *\n",
    "from src.losses import *\n",
    "from src.training import *\n",
    "from src.metrics import *"
   ]
  },
  {
   "cell_type": "code",
   "execution_count": 11,
   "metadata": {
    "metadata": {}
   },
   "outputs": [],
   "source": [
    "# set device\n",
    "device = torch.device(\"cuda\" if torch.cuda.is_available() else \"cpu\")"
   ]
  },
  {
   "cell_type": "code",
   "execution_count": 12,
   "metadata": {
    "metadata": {}
   },
   "outputs": [
    {
     "name": "stderr",
     "output_type": "stream",
     "text": [
      "/home/ayush/DeepReEvent/src/data.py:47: FutureWarning: The provided callable <built-in function max> is currently using SeriesGroupBy.max. In a future version of pandas, the provided callable will be used directly. To keep current behavior pass the string \"max\" instead.\n",
      "  data['max_time'] = data.groupby('id')['t.stop'].transform(max)\n"
     ]
    }
   ],
   "source": [
    "x, t, e, d = _load_readmission_dataset(sequential=True)"
   ]
  },
  {
   "cell_type": "code",
   "execution_count": 13,
   "metadata": {
    "metadata": {}
   },
   "outputs": [],
   "source": [
    "readmission_tensor = _prepare_rt_tensors(x, t, e, d)\n",
    "locals().update(readmission_tensor) # create variables from dictionary"
   ]
  },
  {
   "cell_type": "code",
   "execution_count": 14,
   "metadata": {
    "metadata": {}
   },
   "outputs": [],
   "source": [
    "# model and training parameters\n",
    "\n",
    "input_size = len(x[0]) \n",
    "output_size = int(max(t))\n",
    "hidden_size = 8   # Number of units in the RNN layer\n",
    "\n",
    "model = SimpleGRU(input_size, hidden_size, output_size, 1, 0.1)\n",
    "\n",
    "# Instantiate the model\n",
    "\n",
    "num_epochs = 10000\n",
    "patience = 3  # Number of epochs to wait for improvement before stopping\n",
    "best_val_loss = float('inf')\n",
    "wait = 0\n",
    "loss_function = recurrent_loss\n",
    "\n",
    "model = model.to(device)\n",
    "optimizer = torch.optim.Adam(model.parameters(),  lr=1e-4, weight_decay=1e-7)"
   ]
  },
  {
   "cell_type": "code",
   "execution_count": 15,
   "metadata": {
    "metadata": {}
   },
   "outputs": [],
   "source": [
    "#prepare data loaders\n",
    "\n",
    "train_dataloader, val_dataloader, test_dataloader = _prepare_dataloaders(readmission_tensor, batch_size=32)"
   ]
  },
  {
   "cell_type": "code",
   "execution_count": 16,
   "metadata": {
    "metadata": {}
   },
   "outputs": [
    {
     "name": "stdout",
     "output_type": "stream",
     "text": [
      "Epoch: 0   Training loss: 2.8611   Validation loss: 2.9589\n"
     ]
    },
    {
     "name": "stdout",
     "output_type": "stream",
     "text": [
      "Epoch: 10   Training loss: 2.8668   Validation loss: 2.9581\n",
      "Epoch: 20   Training loss: 2.8403   Validation loss: 2.9565\n",
      "Early stopping\n"
     ]
    }
   ],
   "source": [
    "train_validate_recurrent_model(model, train_dataloader, val_dataloader, loss_function, optimizer, num_epochs, patience, print_every=10)"
   ]
  },
  {
   "cell_type": "code",
   "execution_count": 17,
   "metadata": {
    "metadata": {}
   },
   "outputs": [],
   "source": [
    "test_predictions = model(x_test).squeeze(-1)\n",
    "\n",
    "recurrent_predictions = test_predictions.squeeze(-1)"
   ]
  },
  {
   "cell_type": "code",
   "execution_count": 18,
   "metadata": {},
   "outputs": [
    {
     "data": {
      "text/plain": [
       "{'25th Quantile CI': 0.7151564404713531,\n",
       " '50th Quantile CI': 0.553623188405797,\n",
       " '75th Quantile CI': 0.553623188405797}"
      ]
     },
     "execution_count": 18,
     "metadata": {},
     "output_type": "execute_result"
    }
   ],
   "source": [
    "import torch\n",
    "recurrent_cindex(recurrent_predictions, e_test, t_test, 12)"
   ]
  },
  {
   "cell_type": "code",
   "execution_count": null,
   "metadata": {},
   "outputs": [],
   "source": [
    "nsamples = 10\n",
    "survival_cis = []\n",
    "recurrent_cis = []\n",
    "for sample in range(0, nsamples): \n",
    "    print(\"sample: \",sample)\n",
    "    readmission_tensor = _prepare_rt_tensors(x, t, e, d)\n",
    "    locals().update(readmission_tensor) # create variables from dictionary\n",
    "\n",
    "    train_dataloader, val_dataloader, test_dataloader = _prepare_dataloaders(readmission_tensor, batch_size=32)\n",
    "\n",
    "    input_size = len(x[0]) \n",
    "    output_size = int(max(t))\n",
    "    hidden_size = 8   # Number of units in the RNN layer\n",
    "\n",
    "    model = SimpleLSTM(input_size, hidden_size, output_size, 2, 0.1)\n",
    "\n",
    "    # Instantiate the model\n",
    "\n",
    "    num_epochs = 10000\n",
    "    patience = 3  # Number of epochs to wait for improvement before stopping\n",
    "    best_val_loss = float('inf')\n",
    "    wait = 0\n",
    "    loss_function = recurrent_loss\n",
    "\n",
    "    model = model.to(device)\n",
    "    optimizer = torch.optim.Adam(model.parameters(),  lr=1e-4, weight_decay=1e-7)\n",
    "    train_validate_recurrent_model(model, train_dataloader, val_dataloader, loss_function, optimizer, num_epochs, patience, print_every=1000)\n",
    "    test_predictions = model(x_test).squeeze(-1)\n",
    "\n",
    "    survival_predictions = test_predictions[:, :, 0:1].squeeze(-1)\n",
    "    recurrent_predictions = test_predictions[:, :, 1:2].squeeze(-1)\n",
    "    recurrent_cis.append(recurrent_cindex(recurrent_predictions, e_test, t_test, 12))"
   ]
  }
 ],
 "metadata": {
  "kernelspec": {
   "display_name": "Python 3",
   "language": "python",
   "name": "python3"
  },
  "language_info": {
   "codemirror_mode": {
    "name": "ipython",
    "version": 3
   },
   "file_extension": ".py",
   "mimetype": "text/x-python",
   "name": "python",
   "nbconvert_exporter": "python",
   "pygments_lexer": "ipython3",
   "version": "3.11.4"
  }
 },
 "nbformat": 4,
 "nbformat_minor": 2
}
