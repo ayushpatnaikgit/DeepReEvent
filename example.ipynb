{
 "cells": [
  {
   "cell_type": "code",
   "execution_count": 1,
   "metadata": {
    "metadata": {}
   },
   "outputs": [],
   "source": [
    "from src.data import _load_readmission_dataset, _load_simData\n",
    "from src.helper_functions import _prepare_rt_tensors\n",
    "from src.models import *\n",
    "from src.losses import *\n",
    "from src.training import *\n",
    "from src.metrics import *"
   ]
  },
  {
   "cell_type": "code",
   "execution_count": 2,
   "metadata": {
    "metadata": {}
   },
   "outputs": [],
   "source": [
    "# set device\n",
    "device = torch.device(\"cuda\" if torch.cuda.is_available() else \"cpu\")"
   ]
  },
  {
   "cell_type": "code",
   "execution_count": 3,
   "metadata": {
    "metadata": {}
   },
   "outputs": [
    {
     "name": "stderr",
     "output_type": "stream",
     "text": [
      "/home/ayush/DeepReEvent/src/data.py:47: FutureWarning: The provided callable <built-in function max> is currently using SeriesGroupBy.max. In a future version of pandas, the provided callable will be used directly. To keep current behavior pass the string \"max\" instead.\n",
      "  data['max_time'] = data.groupby('id')['t.stop'].transform(max)\n"
     ]
    }
   ],
   "source": [
    "x, t, e, d = _load_readmission_dataset(sequential=True)"
   ]
  },
  {
   "cell_type": "code",
   "execution_count": 4,
   "metadata": {},
   "outputs": [],
   "source": [
    "# x, t, e, d = _load_simData(sequential=True)"
   ]
  },
  {
   "cell_type": "code",
   "execution_count": 5,
   "metadata": {
    "metadata": {}
   },
   "outputs": [
    {
     "name": "stderr",
     "output_type": "stream",
     "text": [
      "/home/ayush/DeepReEvent/src/helper_functions.py:83: UserWarning: Creating a tensor from a list of numpy.ndarrays is extremely slow. Please consider converting the list to a single numpy.ndarray with numpy.array() before converting to a tensor. (Triggered internally at ../torch/csrc/utils/tensor_new.cpp:261.)\n",
      "  x = torch.tensor(x, dtype=torch.float32)\n"
     ]
    }
   ],
   "source": [
    "readmission_tensor = _prepare_rt_tensors(x, t, e, d)\n",
    "locals().update(readmission_tensor) # create variables from dictionary"
   ]
  },
  {
   "cell_type": "code",
   "execution_count": 6,
   "metadata": {
    "metadata": {}
   },
   "outputs": [],
   "source": [
    "# model and training parameters\n",
    "\n",
    "input_size = len(x[0]) \n",
    "output_size = int(max(t))\n",
    "hidden_size = 8   # Number of units in the RNN layer\n",
    "\n",
    "model = SimpleGRU(input_size, hidden_size, output_size, 2)\n",
    "\n",
    "# Instantiate the model\n",
    "\n",
    "num_epochs = 10000\n",
    "patience = 3  # Number of epochs to wait for improvement before stopping\n",
    "best_val_loss = float('inf')\n",
    "wait = 0\n",
    "loss_function = recurrent_terminal_loss\n",
    "\n",
    "model = model.to(device)\n",
    "optimizer = torch.optim.Adam(model.parameters(),  lr=1e-4, weight_decay=1e-7)"
   ]
  },
  {
   "cell_type": "code",
   "execution_count": 7,
   "metadata": {
    "metadata": {}
   },
   "outputs": [],
   "source": [
    "#prepare data loaders\n",
    "\n",
    "train_dataset = torch.utils.data.TensorDataset(x_train, t_train, e_train, d_train)\n",
    "train_dataloader = torch.utils.data.DataLoader(train_dataset, batch_size=32)\n",
    "\n",
    "val_dataset = torch.utils.data.TensorDataset(x_val, t_val, e_val, d_val)\n",
    "val_dataloader = torch.utils.data.DataLoader(val_dataset, batch_size=32)"
   ]
  },
  {
   "cell_type": "code",
   "execution_count": 8,
   "metadata": {
    "metadata": {}
   },
   "outputs": [
    {
     "name": "stdout",
     "output_type": "stream",
     "text": [
      "Epoch: 0   Training loss: 4.9982   Validation loss: 4.8316\n"
     ]
    },
    {
     "name": "stdout",
     "output_type": "stream",
     "text": [
      "Epoch: 10   Training loss: 4.8899   Validation loss: 4.7345\n",
      "Epoch: 20   Training loss: 4.8051   Validation loss: 4.6464\n",
      "Epoch: 30   Training loss: 4.7237   Validation loss: 4.5641\n",
      "Epoch: 40   Training loss: 4.6392   Validation loss: 4.4858\n",
      "Epoch: 50   Training loss: 4.5624   Validation loss: 4.4102\n",
      "Epoch: 60   Training loss: 4.4763   Validation loss: 4.3339\n",
      "Epoch: 70   Training loss: 4.4100   Validation loss: 4.2557\n",
      "Epoch: 80   Training loss: 4.3129   Validation loss: 4.1772\n",
      "Epoch: 90   Training loss: 4.2480   Validation loss: 4.0972\n",
      "Epoch: 100   Training loss: 4.1285   Validation loss: 4.0170\n",
      "Epoch: 110   Training loss: 4.1035   Validation loss: 3.9377\n",
      "Epoch: 120   Training loss: 4.0238   Validation loss: 3.8602\n",
      "Epoch: 130   Training loss: 3.9522   Validation loss: 3.7875\n",
      "Epoch: 140   Training loss: 3.8332   Validation loss: 3.7194\n",
      "Epoch: 150   Training loss: 3.8453   Validation loss: 3.6553\n",
      "Epoch: 160   Training loss: 3.7443   Validation loss: 3.5987\n",
      "Epoch: 170   Training loss: 3.7159   Validation loss: 3.5455\n",
      "Epoch: 180   Training loss: 3.6402   Validation loss: 3.4991\n",
      "Epoch: 190   Training loss: 3.6478   Validation loss: 3.4581\n",
      "Epoch: 200   Training loss: 3.6027   Validation loss: 3.4232\n",
      "Epoch: 210   Training loss: 3.5496   Validation loss: 3.3923\n",
      "Epoch: 220   Training loss: 3.5585   Validation loss: 3.3639\n",
      "Epoch: 230   Training loss: 3.5601   Validation loss: 3.3401\n",
      "Epoch: 240   Training loss: 3.5447   Validation loss: 3.3184\n",
      "Epoch: 250   Training loss: 3.5441   Validation loss: 3.2988\n",
      "Epoch: 260   Training loss: 3.5318   Validation loss: 3.2821\n",
      "Epoch: 270   Training loss: 3.4705   Validation loss: 3.2663\n",
      "Epoch: 280   Training loss: 3.4763   Validation loss: 3.2542\n",
      "Epoch: 290   Training loss: 3.4727   Validation loss: 3.2413\n",
      "Epoch: 300   Training loss: 3.4474   Validation loss: 3.2300\n",
      "Epoch: 310   Training loss: 3.4587   Validation loss: 3.2188\n",
      "Epoch: 320   Training loss: 3.4506   Validation loss: 3.2090\n",
      "Epoch: 330   Training loss: 3.4263   Validation loss: 3.1992\n",
      "Epoch: 340   Training loss: 3.4199   Validation loss: 3.1890\n",
      "Epoch: 350   Training loss: 3.4245   Validation loss: 3.1799\n",
      "Epoch: 360   Training loss: 3.3845   Validation loss: 3.1693\n",
      "Epoch: 370   Training loss: 3.3926   Validation loss: 3.1595\n",
      "Epoch: 380   Training loss: 3.3494   Validation loss: 3.1513\n",
      "Epoch: 390   Training loss: 3.4090   Validation loss: 3.1436\n",
      "Epoch: 400   Training loss: 3.4118   Validation loss: 3.1345\n",
      "Epoch: 410   Training loss: 3.3808   Validation loss: 3.1247\n",
      "Epoch: 420   Training loss: 3.3959   Validation loss: 3.1173\n",
      "Epoch: 430   Training loss: 3.3709   Validation loss: 3.1097\n",
      "Epoch: 440   Training loss: 3.3814   Validation loss: 3.1025\n",
      "Epoch: 450   Training loss: 3.3465   Validation loss: 3.0946\n",
      "Epoch: 460   Training loss: 3.3557   Validation loss: 3.0875\n",
      "Epoch: 470   Training loss: 3.3923   Validation loss: 3.0803\n",
      "Epoch: 480   Training loss: 3.3167   Validation loss: 3.0726\n",
      "Epoch: 490   Training loss: 3.3832   Validation loss: 3.0652\n",
      "Epoch: 500   Training loss: 3.2808   Validation loss: 3.0592\n",
      "Epoch: 510   Training loss: 3.2575   Validation loss: 3.0525\n",
      "Epoch: 520   Training loss: 3.3212   Validation loss: 3.0455\n",
      "Epoch: 530   Training loss: 3.2720   Validation loss: 3.0387\n",
      "Epoch: 540   Training loss: 3.3145   Validation loss: 3.0339\n",
      "Epoch: 550   Training loss: 3.3142   Validation loss: 3.0297\n",
      "Epoch: 560   Training loss: 3.3185   Validation loss: 3.0248\n",
      "Epoch: 570   Training loss: 3.2770   Validation loss: 3.0189\n",
      "Epoch: 580   Training loss: 3.3051   Validation loss: 3.0139\n",
      "Epoch: 590   Training loss: 3.2856   Validation loss: 3.0082\n",
      "Epoch: 600   Training loss: 3.2796   Validation loss: 3.0040\n",
      "Epoch: 610   Training loss: 3.2709   Validation loss: 2.9976\n",
      "Epoch: 620   Training loss: 3.2701   Validation loss: 2.9936\n",
      "Epoch: 630   Training loss: 3.2631   Validation loss: 2.9876\n",
      "Epoch: 640   Training loss: 3.2728   Validation loss: 2.9838\n",
      "Epoch: 650   Training loss: 3.2414   Validation loss: 2.9797\n",
      "Epoch: 660   Training loss: 3.2777   Validation loss: 2.9749\n",
      "Epoch: 670   Training loss: 3.2417   Validation loss: 2.9705\n",
      "Epoch: 680   Training loss: 3.2719   Validation loss: 2.9662\n",
      "Epoch: 690   Training loss: 3.2689   Validation loss: 2.9621\n",
      "Epoch: 700   Training loss: 3.2793   Validation loss: 2.9579\n",
      "Epoch: 710   Training loss: 3.2040   Validation loss: 2.9542\n",
      "Epoch: 720   Training loss: 3.2392   Validation loss: 2.9512\n",
      "Epoch: 730   Training loss: 3.2324   Validation loss: 2.9475\n",
      "Epoch: 740   Training loss: 3.2375   Validation loss: 2.9444\n",
      "Epoch: 750   Training loss: 3.2312   Validation loss: 2.9408\n",
      "Epoch: 760   Training loss: 3.1646   Validation loss: 2.9365\n",
      "Epoch: 770   Training loss: 3.2306   Validation loss: 2.9332\n",
      "Epoch: 780   Training loss: 3.2582   Validation loss: 2.9304\n",
      "Epoch: 790   Training loss: 3.2283   Validation loss: 2.9264\n",
      "Epoch: 800   Training loss: 3.2792   Validation loss: 2.9241\n",
      "Epoch: 810   Training loss: 3.2181   Validation loss: 2.9219\n",
      "Early stopping\n"
     ]
    }
   ],
   "source": [
    "train_validate_rt_model(model, train_dataloader, val_dataloader, loss_function, optimizer, num_epochs, patience, print_every=10)"
   ]
  },
  {
   "cell_type": "code",
   "execution_count": 9,
   "metadata": {
    "metadata": {}
   },
   "outputs": [],
   "source": [
    "test_predictions = model(x_test).squeeze(-1)\n",
    "\n",
    "survival_predictions = test_predictions[:, :, 0:1].squeeze(-1)\n",
    "recurrent_predictions = test_predictions[:, :, 1:2].squeeze(-1)"
   ]
  },
  {
   "cell_type": "code",
   "execution_count": 10,
   "metadata": {
    "metadata": {}
   },
   "outputs": [
    {
     "data": {
      "text/plain": [
       "{'Brier Score': array([0.04007401, 0.03085015, 0.02573729, 0.01930871]),\n",
       " '25th Quantile CI': 0.9513157894736842,\n",
       " '50th Quantile CI': 0.9488103527124182,\n",
       " '75th Quantile CI': 0.9488103527124182}"
      ]
     },
     "execution_count": 10,
     "metadata": {},
     "output_type": "execute_result"
    }
   ],
   "source": [
    "calculate_survival_metrics(survival_predictions, d_train, t_train, d_test, t_test, d_val, t_val)"
   ]
  },
  {
   "cell_type": "code",
   "execution_count": 11,
   "metadata": {},
   "outputs": [
    {
     "data": {
      "text/plain": [
       "[0.5788299454635597,\n",
       " 0.641725352112676,\n",
       " 0.7029662738724096,\n",
       " 0.6242998707453684,\n",
       " 0.5429951690821256,\n",
       " 0.5429951690821256,\n",
       " 0.5429951690821256,\n",
       " 0.5429951690821256,\n",
       " 0.5429951690821256,\n",
       " 0.5429951690821256]"
      ]
     },
     "execution_count": 11,
     "metadata": {},
     "output_type": "execute_result"
    }
   ],
   "source": [
    "import torch\n",
    "recurrent_cindex(recurrent_predictions, e_test, t_test, 12)"
   ]
  }
 ],
 "metadata": {
  "kernelspec": {
   "display_name": "Python 3",
   "language": "python",
   "name": "python3"
  },
  "language_info": {
   "codemirror_mode": {
    "name": "ipython",
    "version": 3
   },
   "file_extension": ".py",
   "mimetype": "text/x-python",
   "name": "python",
   "nbconvert_exporter": "python",
   "pygments_lexer": "ipython3",
   "version": "3.11.4"
  }
 },
 "nbformat": 4,
 "nbformat_minor": 2
}
