{
 "cells": [
  {
   "cell_type": "code",
   "execution_count": 1,
   "metadata": {
    "metadata": {}
   },
   "outputs": [],
   "source": [
    "from src.data import _load_readmission_dataset\n",
    "from src.helper_functions import _prepare_rt_tensors\n",
    "from src.models import *\n",
    "from src.losses import *\n",
    "from src.training import *\n",
    "from src.metrics import *"
   ]
  },
  {
   "cell_type": "code",
   "execution_count": 2,
   "metadata": {
    "metadata": {}
   },
   "outputs": [],
   "source": [
    "# set device\n",
    "device = torch.device(\"cuda\" if torch.cuda.is_available() else \"cpu\")"
   ]
  },
  {
   "cell_type": "code",
   "execution_count": 3,
   "metadata": {
    "metadata": {}
   },
   "outputs": [
    {
     "name": "stderr",
     "output_type": "stream",
     "text": [
      "/home/ayush/DeepReEvent/src/data.py:44: FutureWarning: The provided callable <built-in function max> is currently using SeriesGroupBy.max. In a future version of pandas, the provided callable will be used directly. To keep current behavior pass the string \"max\" instead.\n",
      "  data['max_time'] = data.groupby('id')['t.stop'].transform(max)\n"
     ]
    }
   ],
   "source": [
    "x, t, e, d = _load_readmission_dataset(sequential=True)"
   ]
  },
  {
   "cell_type": "code",
   "execution_count": 4,
   "metadata": {
    "metadata": {}
   },
   "outputs": [
    {
     "name": "stderr",
     "output_type": "stream",
     "text": [
      "/home/ayush/DeepReEvent/src/helper_functions.py:83: UserWarning: Creating a tensor from a list of numpy.ndarrays is extremely slow. Please consider converting the list to a single numpy.ndarray with numpy.array() before converting to a tensor. (Triggered internally at ../torch/csrc/utils/tensor_new.cpp:261.)\n",
      "  x = torch.tensor(x, dtype=torch.float32)\n"
     ]
    }
   ],
   "source": [
    "readmission_tensor = _prepare_rt_tensors(x, t, e, d)\n",
    "locals().update(readmission_tensor) # create variables from dictionary"
   ]
  },
  {
   "cell_type": "code",
   "execution_count": 5,
   "metadata": {
    "metadata": {}
   },
   "outputs": [],
   "source": [
    "# model and training parameters\n",
    "\n",
    "input_size = len(x[0]) \n",
    "output_size = int(max(t))\n",
    "hidden_size = 8   # Number of units in the RNN layer\n",
    "\n",
    "model = SimpleRNN(input_size, hidden_size, output_size, 2)\n",
    "\n",
    "# Instantiate the model\n",
    "\n",
    "num_epochs = 1000\n",
    "patience = 3  # Number of epochs to wait for improvement before stopping\n",
    "best_val_loss = float('inf')\n",
    "wait = 0\n",
    "loss_function = recurrent_terminal_loss\n",
    "\n",
    "model = model.to(device)\n",
    "optimizer = torch.optim.Adam(model.parameters(), weight_decay=1e-7, lr=1e-4)"
   ]
  },
  {
   "cell_type": "code",
   "execution_count": 6,
   "metadata": {
    "metadata": {}
   },
   "outputs": [],
   "source": [
    "#prepare data loaders\n",
    "\n",
    "train_dataset = torch.utils.data.TensorDataset(x_train, t_train, e_train, d_train)\n",
    "train_dataloader = torch.utils.data.DataLoader(train_dataset, batch_size=32)\n",
    "\n",
    "val_dataset = torch.utils.data.TensorDataset(x_val, t_val, e_val, d_val)\n",
    "val_dataloader = torch.utils.data.DataLoader(val_dataset, batch_size=32)"
   ]
  },
  {
   "cell_type": "code",
   "execution_count": 7,
   "metadata": {
    "metadata": {}
   },
   "outputs": [
    {
     "name": "stdout",
     "output_type": "stream",
     "text": [
      "Epoch: 0   Training loss: 15.5889   Validation loss: 14.3970\n"
     ]
    },
    {
     "name": "stdout",
     "output_type": "stream",
     "text": [
      "Epoch: 10   Training loss: 15.0973   Validation loss: 13.9766\n",
      "Epoch: 20   Training loss: 14.6393   Validation loss: 13.5861\n",
      "Epoch: 30   Training loss: 14.1956   Validation loss: 13.2081\n",
      "Epoch: 40   Training loss: 13.7404   Validation loss: 12.8193\n",
      "Epoch: 50   Training loss: 13.2408   Validation loss: 12.3922\n",
      "Epoch: 60   Training loss: 12.6737   Validation loss: 11.9105\n",
      "Epoch: 70   Training loss: 12.0476   Validation loss: 11.3870\n",
      "Epoch: 80   Training loss: 11.4095   Validation loss: 10.8632\n",
      "Epoch: 90   Training loss: 10.8130   Validation loss: 10.3814\n",
      "Epoch: 100   Training loss: 10.2845   Validation loss: 9.9597\n",
      "Epoch: 110   Training loss: 9.8263   Validation loss: 9.5971\n",
      "Epoch: 120   Training loss: 9.4302   Validation loss: 9.2854\n",
      "Epoch: 130   Training loss: 9.0864   Validation loss: 9.0159\n",
      "Epoch: 140   Training loss: 8.7861   Validation loss: 8.7808\n",
      "Epoch: 150   Training loss: 8.5219   Validation loss: 8.5740\n",
      "Epoch: 160   Training loss: 8.2880   Validation loss: 8.3908\n",
      "Epoch: 170   Training loss: 8.0796   Validation loss: 8.2273\n",
      "Epoch: 180   Training loss: 7.8930   Validation loss: 8.0805\n",
      "Epoch: 190   Training loss: 7.7251   Validation loss: 7.9480\n",
      "Epoch: 200   Training loss: 7.5733   Validation loss: 7.8277\n",
      "Epoch: 210   Training loss: 7.4356   Validation loss: 7.7182\n",
      "Epoch: 220   Training loss: 7.3103   Validation loss: 7.6181\n",
      "Epoch: 230   Training loss: 7.1958   Validation loss: 7.5262\n",
      "Epoch: 240   Training loss: 7.0910   Validation loss: 7.4417\n",
      "Epoch: 250   Training loss: 6.9948   Validation loss: 7.3638\n",
      "Epoch: 260   Training loss: 6.9063   Validation loss: 7.2918\n",
      "Epoch: 270   Training loss: 6.8246   Validation loss: 7.2252\n",
      "Epoch: 280   Training loss: 6.7492   Validation loss: 7.1633\n",
      "Epoch: 290   Training loss: 6.6794   Validation loss: 7.1059\n",
      "Epoch: 300   Training loss: 6.6146   Validation loss: 7.0524\n",
      "Epoch: 310   Training loss: 6.5545   Validation loss: 7.0025\n",
      "Epoch: 320   Training loss: 6.4986   Validation loss: 6.9560\n",
      "Epoch: 330   Training loss: 6.4465   Validation loss: 6.9126\n",
      "Epoch: 340   Training loss: 6.3979   Validation loss: 6.8720\n",
      "Epoch: 350   Training loss: 6.3525   Validation loss: 6.8339\n",
      "Epoch: 360   Training loss: 6.3101   Validation loss: 6.7982\n",
      "Epoch: 370   Training loss: 6.2704   Validation loss: 6.7647\n",
      "Epoch: 380   Training loss: 6.2332   Validation loss: 6.7333\n",
      "Epoch: 390   Training loss: 6.1982   Validation loss: 6.7037\n",
      "Epoch: 400   Training loss: 6.1654   Validation loss: 6.6758\n",
      "Epoch: 410   Training loss: 6.1346   Validation loss: 6.6496\n",
      "Epoch: 420   Training loss: 6.1056   Validation loss: 6.6248\n",
      "Epoch: 430   Training loss: 6.0783   Validation loss: 6.6014\n",
      "Epoch: 440   Training loss: 6.0525   Validation loss: 6.5793\n",
      "Epoch: 450   Training loss: 6.0282   Validation loss: 6.5584\n",
      "Epoch: 460   Training loss: 6.0052   Validation loss: 6.5386\n",
      "Epoch: 470   Training loss: 5.9836   Validation loss: 6.5198\n",
      "Epoch: 480   Training loss: 5.9631   Validation loss: 6.5020\n",
      "Epoch: 490   Training loss: 5.9437   Validation loss: 6.4852\n",
      "Epoch: 500   Training loss: 5.9253   Validation loss: 6.4691\n",
      "Epoch: 510   Training loss: 5.9079   Validation loss: 6.4538\n",
      "Epoch: 520   Training loss: 5.8914   Validation loss: 6.4393\n",
      "Epoch: 530   Training loss: 5.8758   Validation loss: 6.4255\n",
      "Epoch: 540   Training loss: 5.8609   Validation loss: 6.4123\n",
      "Epoch: 550   Training loss: 5.8468   Validation loss: 6.3998\n",
      "Epoch: 560   Training loss: 5.8334   Validation loss: 6.3878\n",
      "Epoch: 570   Training loss: 5.8207   Validation loss: 6.3763\n",
      "Epoch: 580   Training loss: 5.8086   Validation loss: 6.3654\n",
      "Epoch: 590   Training loss: 5.7970   Validation loss: 6.3549\n",
      "Epoch: 600   Training loss: 5.7861   Validation loss: 6.3449\n",
      "Epoch: 610   Training loss: 5.7756   Validation loss: 6.3353\n",
      "Epoch: 620   Training loss: 5.7656   Validation loss: 6.3261\n",
      "Epoch: 630   Training loss: 5.7561   Validation loss: 6.3173\n",
      "Epoch: 640   Training loss: 5.7471   Validation loss: 6.3088\n",
      "Epoch: 650   Training loss: 5.7384   Validation loss: 6.3007\n",
      "Epoch: 660   Training loss: 5.7301   Validation loss: 6.2928\n",
      "Epoch: 670   Training loss: 5.7221   Validation loss: 6.2852\n",
      "Epoch: 680   Training loss: 5.7145   Validation loss: 6.2778\n",
      "Epoch: 690   Training loss: 5.7071   Validation loss: 6.2706\n",
      "Epoch: 700   Training loss: 5.7000   Validation loss: 6.2636\n",
      "Epoch: 710   Training loss: 5.6931   Validation loss: 6.2567\n",
      "Epoch: 720   Training loss: 5.6864   Validation loss: 6.2498\n",
      "Epoch: 730   Training loss: 5.6798   Validation loss: 6.2429\n",
      "Epoch: 740   Training loss: 5.6731   Validation loss: 6.2359\n",
      "Epoch: 750   Training loss: 5.6664   Validation loss: 6.2284\n",
      "Epoch: 760   Training loss: 5.6594   Validation loss: 6.2203\n",
      "Epoch: 770   Training loss: 5.6517   Validation loss: 6.2109\n",
      "Epoch: 780   Training loss: 5.6428   Validation loss: 6.1995\n",
      "Epoch: 790   Training loss: 5.6318   Validation loss: 6.1846\n",
      "Epoch: 800   Training loss: 5.6173   Validation loss: 6.1637\n",
      "Epoch: 810   Training loss: 5.5965   Validation loss: 6.1327\n",
      "Epoch: 820   Training loss: 5.5661   Validation loss: 6.0874\n",
      "Early stopping\n"
     ]
    }
   ],
   "source": [
    "train_validate_rt_model(model, train_dataloader, val_dataloader, loss_function, optimizer, num_epochs, patience, print_every=10)"
   ]
  },
  {
   "cell_type": "code",
   "execution_count": 8,
   "metadata": {
    "metadata": {}
   },
   "outputs": [],
   "source": [
    "test_predictions = model(x_test).squeeze(-1)\n",
    "\n",
    "survival_predictions = test_predictions[:, :, 0:1].squeeze(-1)\n",
    "recurrent_predictions = test_predictions[:, :, 1:2].squeeze(-1)"
   ]
  },
  {
   "cell_type": "code",
   "execution_count": 9,
   "metadata": {
    "metadata": {}
   },
   "outputs": [
    {
     "data": {
      "text/plain": [
       "{'Brier Score': array([0.01711155, 0.04105541, 0.04318445, 0.03670069, 0.03524066,\n",
       "        0.03828672, 0.03856495, 0.03955116, 0.04226858, 0.04874788,\n",
       "        0.04113356, 0.03538256, 0.03148225, 0.03431167, 0.01815343]),\n",
       " '25th Quantile CI': 0.9590696446501267,\n",
       " '50th Quantile CI': 0.9590696446501267,\n",
       " '75th Quantile CI': 0.9567284019000687}"
      ]
     },
     "execution_count": 9,
     "metadata": {},
     "output_type": "execute_result"
    }
   ],
   "source": [
    "calculate_survival_metrics(survival_predictions, d_train, t_train, d_test, t_test, d_val, t_val)"
   ]
  },
  {
   "cell_type": "markdown",
   "metadata": {},
   "source": []
  },
  {
   "cell_type": "code",
   "execution_count": 18,
   "metadata": {},
   "outputs": [
    {
     "name": "stdout",
     "output_type": "stream",
     "text": [
      "tensor([0.0943, 0.0763, 0.0510, 0.0371, 0.0475, 0.0285, 0.0454, 0.0412, 0.0254,\n",
      "        0.0349, 0.0634, 0.0375, 0.0246, 0.0855, 0.0622, 0.0499, 0.0582, 0.0855,\n",
      "        0.0490, 0.0982, 0.0731, 0.6544], grad_fn=<SelectBackward0>)\n"
     ]
    }
   ],
   "source": [
    "h = survival_predictions[d_test == 1][0]\n",
    "t = t_test[d_test == 1][0]\n",
    "print(h)"
   ]
  },
  {
   "cell_type": "code",
   "execution_count": 19,
   "metadata": {},
   "outputs": [
    {
     "data": {
      "text/plain": [
       "tensor(0.0763, grad_fn=<SelectBackward0>)"
      ]
     },
     "execution_count": 19,
     "metadata": {},
     "output_type": "execute_result"
    }
   ],
   "source": [
    "h[1]"
   ]
  },
  {
   "cell_type": "code",
   "execution_count": 12,
   "metadata": {
    "metadata": {}
   },
   "outputs": [],
   "source": [
    "survival_predictions\n",
    "\n",
    "h = survival_predictions[0]\n",
    "\n",
    "L1 = torch.log(h[t])\n",
    "# Log-likelihood contribution from survival until time t\n",
    "L2 = torch.sum(torch.log(1 - h[0:t]))"
   ]
  },
  {
   "cell_type": "markdown",
   "metadata": {},
   "source": [
    "## Experimenting"
   ]
  },
  {
   "cell_type": "code",
   "execution_count": 13,
   "metadata": {},
   "outputs": [
    {
     "name": "stdout",
     "output_type": "stream",
     "text": [
      "tensor([2.2043, 1.0303, 1.4937, 2.7117, 1.2854, 2.7399, 2.2151, 2.9163, 0.4369,\n",
      "        1.2414, 0.0000, 2.6816, 2.2043, 1.8762, 3.0435, 0.8154, 0.4162, 2.9163,\n",
      "        1.8798, 2.7399, 2.2940, 1.7662, 1.6680, 1.8619, 2.4202, 2.7054, 2.7056,\n",
      "        1.0773, 0.6896, 2.7054, 1.8762, 0.6963, 0.3369, 2.1819, 0.2279, 2.7054,\n",
      "        1.8838, 0.2336, 1.0773, 1.8798, 1.6719, 1.3532, 0.5149, 0.8803, 1.6680,\n",
      "        2.1825, 0.0000, 1.6667, 0.5508, 1.6666, 1.0120, 1.9251, 0.6909, 1.6667,\n",
      "        1.6028, 2.1819, 0.6909, 1.4815, 1.2379, 2.2940, 1.2379, 0.0000, 0.4796,\n",
      "        1.4872, 1.6489, 1.6481, 0.6748, 1.6666, 1.8798, 2.3226, 1.9578, 0.4008,\n",
      "        2.2679, 1.0022, 1.6667, 0.5353, 2.3313, 1.3532, 1.3507, 1.6481, 1.0013],\n",
      "       grad_fn=<CopySlices>)\n"
     ]
    }
   ],
   "source": [
    "out_risk = recurrent_predictions\n",
    "\n",
    "current_time = 20\n",
    "\n",
    "expected_number_of_events = torch.zeros(out_risk.size(0))\n",
    "\n",
    "for i in range(out_risk.size(0)):\n",
    "    clamped_time = min(current_time, t_test[i].item())\n",
    "    expected_number_of_events[i] = out_risk[i, 0:clamped_time].sum()\n",
    "\n",
    "print(expected_number_of_events)\n"
   ]
  },
  {
   "cell_type": "code",
   "execution_count": 14,
   "metadata": {},
   "outputs": [
    {
     "name": "stdout",
     "output_type": "stream",
     "text": [
      "tensor(5)\n",
      "tensor(1.2854, grad_fn=<SelectBackward0>)\n",
      "tensor([  0,   2,   4,   8,   8, 100, 100, 100, 100, 100, 100, 100, 100, 100,\n",
      "        100, 100, 100, 100, 100, 100, 100, 100, 100])\n"
     ]
    },
    {
     "data": {
      "text/plain": [
       "tensor([0.2335, 0.1828, 0.1396, 0.1481, 0.1433, 0.1948, 0.0897, 0.1535],\n",
       "       grad_fn=<SliceBackward0>)"
      ]
     },
     "execution_count": 14,
     "metadata": {},
     "output_type": "execute_result"
    }
   ],
   "source": [
    "mask = e_test < current_time\n",
    "observed_number_of_events = mask.sum(dim=1)\n",
    "\n",
    "print(observed_number_of_events[4])\n",
    "print(expected_number_of_events[4])\n",
    "\n",
    "print(e_test[4])\n",
    "\n",
    "out_risk[4][0:8]"
   ]
  },
  {
   "cell_type": "code",
   "execution_count": 15,
   "metadata": {},
   "outputs": [
    {
     "name": "stdout",
     "output_type": "stream",
     "text": [
      "tensor([ True,  True, False,  True, False, False,  True])\n"
     ]
    },
    {
     "data": {
      "text/plain": [
       "tensor(5.7868, grad_fn=<MulBackward0>)"
      ]
     },
     "execution_count": 15,
     "metadata": {},
     "output_type": "execute_result"
    }
   ],
   "source": [
    "h = out_risk[2]\n",
    "e = e_test[2]\n",
    "t = t_test[2]\n",
    "\n",
    "mask = torch.ones_like(h[0:t], dtype=torch.bool)\n",
    "# Set mask to False for time points where events occurred\n",
    "mask[e[e < t]] = False\n",
    "print(mask)\n",
    "# Calculate the negative log-likelihood for both the event occurrences and non-occurrences\n",
    "-1 * (torch.sum(torch.log(h[0:t][e[e < t]])) + torch.sum(torch.log(1 - h[0:t][mask])))\n"
   ]
  },
  {
   "cell_type": "code",
   "execution_count": 16,
   "metadata": {},
   "outputs": [
    {
     "name": "stdout",
     "output_type": "stream",
     "text": [
      "h tensor([0.2882, 0.2267, 0.2029, 0.2196, 0.1678, 0.2449, 0.1436, 0.2011, 0.1949,\n",
      "        0.1974, 0.2442, 0.2740, 0.3642, 0.1883, 0.3826, 0.2654, 0.4442, 0.5562,\n",
      "        0.5358, 0.5976, 0.6642, 0.8765], grad_fn=<SelectBackward0>)\n",
      "e, t tensor([  2,   4,   5,   7, 100, 100, 100, 100, 100, 100, 100, 100, 100, 100,\n",
      "        100, 100, 100, 100, 100, 100, 100, 100, 100]) tensor(7)\n",
      "tensor([0.2029, 0.1678, 0.2449], grad_fn=<IndexBackward0>)\n"
     ]
    }
   ],
   "source": [
    "print(\"h\", h)\n",
    "print(\"e, t\", e, t)\n",
    "print(h[0:t][e[e < t]])"
   ]
  },
  {
   "cell_type": "code",
   "execution_count": 17,
   "metadata": {},
   "outputs": [
    {
     "data": {
      "text/plain": [
       "tensor(0.)"
      ]
     },
     "execution_count": 17,
     "metadata": {},
     "output_type": "execute_result"
    }
   ],
   "source": [
    "import pandas as pd\n",
    "data = pd.read_csv('data/readmission.csv', delimiter=';')\n",
    "torch.tensor(0.0)"
   ]
  }
 ],
 "metadata": {
  "kernelspec": {
   "display_name": "Python 3",
   "language": "python",
   "name": "python3"
  },
  "language_info": {
   "codemirror_mode": {
    "name": "ipython",
    "version": 3
   },
   "file_extension": ".py",
   "mimetype": "text/x-python",
   "name": "python",
   "nbconvert_exporter": "python",
   "pygments_lexer": "ipython3",
   "version": "3.11.4"
  }
 },
 "nbformat": 4,
 "nbformat_minor": 2
}
