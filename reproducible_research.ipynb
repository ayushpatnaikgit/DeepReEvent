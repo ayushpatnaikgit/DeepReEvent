{
 "cells": [
  {
   "cell_type": "code",
   "execution_count": 1,
   "metadata": {},
   "outputs": [],
   "source": [
    "from src.data import _load_readmission_dataset, _load_simData\n",
    "from src.helper_functions import _prepare_rt_tensors\n",
    "from src.models import *\n",
    "from src.losses import *    \n",
    "from src.training import *\n",
    "from src.metrics import *"
   ]
  },
  {
   "cell_type": "code",
   "execution_count": 2,
   "metadata": {},
   "outputs": [],
   "source": [
    "# set device\n",
    "device = torch.device(\"cuda\" if torch.cuda.is_available() else \"cpu\")"
   ]
  },
  {
   "cell_type": "code",
   "execution_count": 3,
   "metadata": {},
   "outputs": [
    {
     "name": "stderr",
     "output_type": "stream",
     "text": [
      "/home/ayush/DeepReEvent/src/data.py:47: FutureWarning: The provided callable <built-in function max> is currently using SeriesGroupBy.max. In a future version of pandas, the provided callable will be used directly. To keep current behavior pass the string \"max\" instead.\n",
      "  data['max_time'] = data.groupby('id')['t.stop'].transform(max)\n"
     ]
    }
   ],
   "source": [
    "x, t, e, d = _load_readmission_dataset(sequential=True)"
   ]
  },
  {
   "cell_type": "code",
   "execution_count": 30,
   "metadata": {},
   "outputs": [
    {
     "data": {
      "image/png": "[encoded data removed]",
      "text/plain": [
       "<Figure size 640x480 with 1 Axes>"
      ]
     },
     "metadata": {},
     "output_type": "display_data"
    }
   ],
   "source": [
    "import numpy as np\n",
    "import matplotlib.pyplot as plt\n",
    "\n",
    "\n",
    "t = np.array(t)\n",
    "d = np.array(d)\n",
    "unique_t = np.unique(t)\n",
    "\n",
    "counts_d0 = np.zeros_like(unique_t)\n",
    "counts_d1 = np.zeros_like(unique_t)\n",
    "\n",
    "# Compute counts for d = 0 and d = 1 for each unique t\n",
    "for i, u in enumerate(unique_t):\n",
    "    counts_d0[i] = np.sum((t == u) & (d == 0))\n",
    "    counts_d1[i] = np.sum((t == u) & (d == 1))\n",
    "\n",
    "\n",
    "# Plot the stacked histogram\n",
    "bar_width = 0.8\n",
    "plt.bar(unique_t, counts_d0, width=bar_width, label='Censored', color='blue', edgecolor='black')\n",
    "plt.bar(unique_t, counts_d1, width=bar_width, bottom=counts_d0, label='Event', color='orange', edgecolor='black')\n",
    "\n",
    "plt.xlabel('Time (t)')\n",
    "plt.ylabel('Frequency')\n",
    "plt.title('Stacked Histogram of Events (d) for Each Time (t)')\n",
    "plt.legend()\n",
    "plt.show()"
   ]
  },
  {
   "cell_type": "markdown",
   "metadata": {},
   "source": [
    "## Patients facing the highest number of events in a single interval"
   ]
  },
  {
   "cell_type": "code",
   "execution_count": 60,
   "metadata": {},
   "outputs": [
    {
     "name": "stdout",
     "output_type": "stream",
     "text": [
      "\n",
      "The array with the highest count is Array 350, where the element 1 appears 21 times\n"
     ]
    }
   ],
   "source": [
    "# Dictionary to store the most common element and its count for each array\n",
    "import numpy as np\n",
    "from collections import Counter\n",
    "\n",
    "most_common_dict = {}\n",
    "\n",
    "# Find and store the most common element and its count in each array\n",
    "for i, arr in enumerate(e):\n",
    "    counter = Counter(arr)\n",
    "    most_common_element, highest_count = counter.most_common(1)[0]  # Get the most common element and its count\n",
    "    most_common_dict[f'Array {i + 1}'] = (most_common_element, highest_count)\n",
    "\n",
    "# Find the key with the highest count\n",
    "max_count = 0\n",
    "max_key = None\n",
    "\n",
    "for array_name, (element, count) in most_common_dict.items():\n",
    "    if count > max_count:\n",
    "        max_count = count\n",
    "        max_key = array_name\n",
    "\n",
    "# Print the key with the highest count\n",
    "print(f\"\\nThe array with the highest count is {max_key}, where the element {most_common_dict[max_key][0]} appears {max_count} times\")\n"
   ]
  },
  {
   "cell_type": "markdown",
   "metadata": {},
   "source": [
    "## Libraries and their versions"
   ]
  },
  {
   "cell_type": "code",
   "execution_count": 15,
   "metadata": {},
   "outputs": [
    {
     "name": "stdout",
     "output_type": "stream",
     "text": [
      "sksurv==0.22.1\n",
      "sklearn==1.3.1\n",
      "numpy==1.26.1\n",
      "pandas==2.1.1\n",
      "torch==2.1.0+cu121\n",
      "matplotlib==3.8.0\n"
     ]
    }
   ],
   "source": [
    "import sksurv\n",
    "import sklearn\n",
    "import numpy as np\n",
    "import pandas as pd\n",
    "import torch\n",
    "import matplotlib\n",
    "\n",
    "# Get versions of the imported packages\n",
    "versions = {\n",
    "    'sksurv': sksurv.__version__,\n",
    "    'sklearn': sklearn.__version__,\n",
    "    'numpy': np.__version__,\n",
    "    'pandas': pd.__version__,\n",
    "    'torch': torch.__version__,\n",
    "    'matplotlib': matplotlib.__version__\n",
    "    \n",
    "}\n",
    "\n",
    "# Print the versions of imported packages\n",
    "for package, version in versions.items():\n",
    "    print(f\"{package}=={version}\")\n"
   ]
  },
  {
   "cell_type": "markdown",
   "metadata": {},
   "source": [
    "## Results from Wang et al. (2023)"
   ]
  },
  {
   "cell_type": "code",
   "execution_count": 12,
   "metadata": {},
   "outputs": [
    {
     "name": "stdout",
     "output_type": "stream",
     "text": [
      "   Time     y  diff\n",
      "0   1.0  0.58  0.13\n",
      "1   2.0  0.63  0.08\n",
      "2   3.0  0.62  0.09\n",
      "3   4.0  0.55  0.10\n",
      "4   5.0  0.42  0.17\n",
      "5   6.0  0.34  0.22\n"
     ]
    }
   ],
   "source": [
    "import pandas as pd\n",
    "\n",
    "# Create a dictionary with the data\n",
    "data = {\n",
    "    \"Time\": [0.0, 1.0, 2.0, 3.0, 4.0, 4.50],\n",
    "    \"y\": [0.5819134, 0.6262855, 0.6155859, 0.5484110, 0.4222629, 0.3420796],\n",
    "    \"y.low\": [0.4551563, 0.5475601, 0.5280923, 0.4464171, 0.2556209, 0.1259952],\n",
    "    \"y.high\": [0.7086704, 0.7050109, 0.7030795, 0.6504048, 0.5889050, 0.5581641]\n",
    "}\n",
    "\n",
    "# Create the DataFrame\n",
    "df = pd.DataFrame(data)\n",
    "\n",
    "df[\"Time\"] = df[\"Time\"] + 1\n",
    "df[\"Time\"][5] = 6 # Since 6th time is't given, we use the 4.5th value. \n",
    "df[\"diff\"] = df[\"y\"] - df[\"y.low\"]\n",
    "df.drop([\"y.low\", \"y.high\"], axis=1, inplace=True)\n",
    "print(df.round(2))\n"
   ]
  }
 ],
 "metadata": {
  "kernelspec": {
   "display_name": "base",
   "language": "python",
   "name": "python3"
  },
  "language_info": {
   "codemirror_mode": {
    "name": "ipython",
    "version": 3
   },
   "file_extension": ".py",
   "mimetype": "text/x-python",
   "name": "python",
   "nbconvert_exporter": "python",
   "pygments_lexer": "ipython3",
   "version": "3.11.4"
  }
 },
 "nbformat": 4,
 "nbformat_minor": 2
}
